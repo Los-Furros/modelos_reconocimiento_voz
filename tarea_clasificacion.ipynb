{
 "cells": [
  {
   "cell_type": "code",
   "execution_count": 2,
   "id": "694d583a",
   "metadata": {},
   "outputs": [
    {
     "name": "stdout",
     "output_type": "stream",
     "text": [
      "Collecting scikit-learn\n",
      "  Using cached scikit_learn-1.0.2-cp38-cp38-manylinux_2_17_x86_64.manylinux2014_x86_64.whl (26.7 MB)\n",
      "Collecting scipy>=1.1.0\n",
      "  Using cached scipy-1.8.0-cp38-cp38-manylinux_2_17_x86_64.manylinux2014_x86_64.whl (41.6 MB)\n",
      "Collecting joblib>=0.11\n",
      "  Using cached joblib-1.1.0-py2.py3-none-any.whl (306 kB)\n",
      "Requirement already satisfied: numpy>=1.14.6 in /mnt/c/TEC/OCTAVO_b/SISTEMAS/tareas/env-tareas/lib/python3.8/site-packages (from scikit-learn) (1.22.3)\n",
      "Collecting threadpoolctl>=2.0.0\n",
      "  Using cached threadpoolctl-3.1.0-py3-none-any.whl (14 kB)\n",
      "Installing collected packages: scipy, joblib, threadpoolctl, scikit-learn\n",
      "Successfully installed joblib-1.1.0 scikit-learn-1.0.2 scipy-1.8.0 threadpoolctl-3.1.0\n",
      "Note: you may need to restart the kernel to use updated packages.\n"
     ]
    }
   ],
   "source": [
    "pip install scikit-learn"
   ]
  },
  {
   "cell_type": "code",
   "execution_count": 3,
   "id": "8f8da2e0",
   "metadata": {},
   "outputs": [],
   "source": [
    "from sklearn import datasets"
   ]
  },
  {
   "cell_type": "code",
   "execution_count": 30,
   "id": "e22257e7",
   "metadata": {},
   "outputs": [],
   "source": [
    "from matplotlib import pyplot as plt\n",
    "import matplotlib.cm as cm"
   ]
  },
  {
   "cell_type": "code",
   "execution_count": 5,
   "id": "bb9f8506",
   "metadata": {},
   "outputs": [
    {
     "data": {
      "text/plain": [
       "{'data': array([[5.1, 3.5, 1.4, 0.2],\n",
       "        [4.9, 3. , 1.4, 0.2],\n",
       "        [4.7, 3.2, 1.3, 0.2],\n",
       "        [4.6, 3.1, 1.5, 0.2],\n",
       "        [5. , 3.6, 1.4, 0.2],\n",
       "        [5.4, 3.9, 1.7, 0.4],\n",
       "        [4.6, 3.4, 1.4, 0.3],\n",
       "        [5. , 3.4, 1.5, 0.2],\n",
       "        [4.4, 2.9, 1.4, 0.2],\n",
       "        [4.9, 3.1, 1.5, 0.1],\n",
       "        [5.4, 3.7, 1.5, 0.2],\n",
       "        [4.8, 3.4, 1.6, 0.2],\n",
       "        [4.8, 3. , 1.4, 0.1],\n",
       "        [4.3, 3. , 1.1, 0.1],\n",
       "        [5.8, 4. , 1.2, 0.2],\n",
       "        [5.7, 4.4, 1.5, 0.4],\n",
       "        [5.4, 3.9, 1.3, 0.4],\n",
       "        [5.1, 3.5, 1.4, 0.3],\n",
       "        [5.7, 3.8, 1.7, 0.3],\n",
       "        [5.1, 3.8, 1.5, 0.3],\n",
       "        [5.4, 3.4, 1.7, 0.2],\n",
       "        [5.1, 3.7, 1.5, 0.4],\n",
       "        [4.6, 3.6, 1. , 0.2],\n",
       "        [5.1, 3.3, 1.7, 0.5],\n",
       "        [4.8, 3.4, 1.9, 0.2],\n",
       "        [5. , 3. , 1.6, 0.2],\n",
       "        [5. , 3.4, 1.6, 0.4],\n",
       "        [5.2, 3.5, 1.5, 0.2],\n",
       "        [5.2, 3.4, 1.4, 0.2],\n",
       "        [4.7, 3.2, 1.6, 0.2],\n",
       "        [4.8, 3.1, 1.6, 0.2],\n",
       "        [5.4, 3.4, 1.5, 0.4],\n",
       "        [5.2, 4.1, 1.5, 0.1],\n",
       "        [5.5, 4.2, 1.4, 0.2],\n",
       "        [4.9, 3.1, 1.5, 0.2],\n",
       "        [5. , 3.2, 1.2, 0.2],\n",
       "        [5.5, 3.5, 1.3, 0.2],\n",
       "        [4.9, 3.6, 1.4, 0.1],\n",
       "        [4.4, 3. , 1.3, 0.2],\n",
       "        [5.1, 3.4, 1.5, 0.2],\n",
       "        [5. , 3.5, 1.3, 0.3],\n",
       "        [4.5, 2.3, 1.3, 0.3],\n",
       "        [4.4, 3.2, 1.3, 0.2],\n",
       "        [5. , 3.5, 1.6, 0.6],\n",
       "        [5.1, 3.8, 1.9, 0.4],\n",
       "        [4.8, 3. , 1.4, 0.3],\n",
       "        [5.1, 3.8, 1.6, 0.2],\n",
       "        [4.6, 3.2, 1.4, 0.2],\n",
       "        [5.3, 3.7, 1.5, 0.2],\n",
       "        [5. , 3.3, 1.4, 0.2],\n",
       "        [7. , 3.2, 4.7, 1.4],\n",
       "        [6.4, 3.2, 4.5, 1.5],\n",
       "        [6.9, 3.1, 4.9, 1.5],\n",
       "        [5.5, 2.3, 4. , 1.3],\n",
       "        [6.5, 2.8, 4.6, 1.5],\n",
       "        [5.7, 2.8, 4.5, 1.3],\n",
       "        [6.3, 3.3, 4.7, 1.6],\n",
       "        [4.9, 2.4, 3.3, 1. ],\n",
       "        [6.6, 2.9, 4.6, 1.3],\n",
       "        [5.2, 2.7, 3.9, 1.4],\n",
       "        [5. , 2. , 3.5, 1. ],\n",
       "        [5.9, 3. , 4.2, 1.5],\n",
       "        [6. , 2.2, 4. , 1. ],\n",
       "        [6.1, 2.9, 4.7, 1.4],\n",
       "        [5.6, 2.9, 3.6, 1.3],\n",
       "        [6.7, 3.1, 4.4, 1.4],\n",
       "        [5.6, 3. , 4.5, 1.5],\n",
       "        [5.8, 2.7, 4.1, 1. ],\n",
       "        [6.2, 2.2, 4.5, 1.5],\n",
       "        [5.6, 2.5, 3.9, 1.1],\n",
       "        [5.9, 3.2, 4.8, 1.8],\n",
       "        [6.1, 2.8, 4. , 1.3],\n",
       "        [6.3, 2.5, 4.9, 1.5],\n",
       "        [6.1, 2.8, 4.7, 1.2],\n",
       "        [6.4, 2.9, 4.3, 1.3],\n",
       "        [6.6, 3. , 4.4, 1.4],\n",
       "        [6.8, 2.8, 4.8, 1.4],\n",
       "        [6.7, 3. , 5. , 1.7],\n",
       "        [6. , 2.9, 4.5, 1.5],\n",
       "        [5.7, 2.6, 3.5, 1. ],\n",
       "        [5.5, 2.4, 3.8, 1.1],\n",
       "        [5.5, 2.4, 3.7, 1. ],\n",
       "        [5.8, 2.7, 3.9, 1.2],\n",
       "        [6. , 2.7, 5.1, 1.6],\n",
       "        [5.4, 3. , 4.5, 1.5],\n",
       "        [6. , 3.4, 4.5, 1.6],\n",
       "        [6.7, 3.1, 4.7, 1.5],\n",
       "        [6.3, 2.3, 4.4, 1.3],\n",
       "        [5.6, 3. , 4.1, 1.3],\n",
       "        [5.5, 2.5, 4. , 1.3],\n",
       "        [5.5, 2.6, 4.4, 1.2],\n",
       "        [6.1, 3. , 4.6, 1.4],\n",
       "        [5.8, 2.6, 4. , 1.2],\n",
       "        [5. , 2.3, 3.3, 1. ],\n",
       "        [5.6, 2.7, 4.2, 1.3],\n",
       "        [5.7, 3. , 4.2, 1.2],\n",
       "        [5.7, 2.9, 4.2, 1.3],\n",
       "        [6.2, 2.9, 4.3, 1.3],\n",
       "        [5.1, 2.5, 3. , 1.1],\n",
       "        [5.7, 2.8, 4.1, 1.3],\n",
       "        [6.3, 3.3, 6. , 2.5],\n",
       "        [5.8, 2.7, 5.1, 1.9],\n",
       "        [7.1, 3. , 5.9, 2.1],\n",
       "        [6.3, 2.9, 5.6, 1.8],\n",
       "        [6.5, 3. , 5.8, 2.2],\n",
       "        [7.6, 3. , 6.6, 2.1],\n",
       "        [4.9, 2.5, 4.5, 1.7],\n",
       "        [7.3, 2.9, 6.3, 1.8],\n",
       "        [6.7, 2.5, 5.8, 1.8],\n",
       "        [7.2, 3.6, 6.1, 2.5],\n",
       "        [6.5, 3.2, 5.1, 2. ],\n",
       "        [6.4, 2.7, 5.3, 1.9],\n",
       "        [6.8, 3. , 5.5, 2.1],\n",
       "        [5.7, 2.5, 5. , 2. ],\n",
       "        [5.8, 2.8, 5.1, 2.4],\n",
       "        [6.4, 3.2, 5.3, 2.3],\n",
       "        [6.5, 3. , 5.5, 1.8],\n",
       "        [7.7, 3.8, 6.7, 2.2],\n",
       "        [7.7, 2.6, 6.9, 2.3],\n",
       "        [6. , 2.2, 5. , 1.5],\n",
       "        [6.9, 3.2, 5.7, 2.3],\n",
       "        [5.6, 2.8, 4.9, 2. ],\n",
       "        [7.7, 2.8, 6.7, 2. ],\n",
       "        [6.3, 2.7, 4.9, 1.8],\n",
       "        [6.7, 3.3, 5.7, 2.1],\n",
       "        [7.2, 3.2, 6. , 1.8],\n",
       "        [6.2, 2.8, 4.8, 1.8],\n",
       "        [6.1, 3. , 4.9, 1.8],\n",
       "        [6.4, 2.8, 5.6, 2.1],\n",
       "        [7.2, 3. , 5.8, 1.6],\n",
       "        [7.4, 2.8, 6.1, 1.9],\n",
       "        [7.9, 3.8, 6.4, 2. ],\n",
       "        [6.4, 2.8, 5.6, 2.2],\n",
       "        [6.3, 2.8, 5.1, 1.5],\n",
       "        [6.1, 2.6, 5.6, 1.4],\n",
       "        [7.7, 3. , 6.1, 2.3],\n",
       "        [6.3, 3.4, 5.6, 2.4],\n",
       "        [6.4, 3.1, 5.5, 1.8],\n",
       "        [6. , 3. , 4.8, 1.8],\n",
       "        [6.9, 3.1, 5.4, 2.1],\n",
       "        [6.7, 3.1, 5.6, 2.4],\n",
       "        [6.9, 3.1, 5.1, 2.3],\n",
       "        [5.8, 2.7, 5.1, 1.9],\n",
       "        [6.8, 3.2, 5.9, 2.3],\n",
       "        [6.7, 3.3, 5.7, 2.5],\n",
       "        [6.7, 3. , 5.2, 2.3],\n",
       "        [6.3, 2.5, 5. , 1.9],\n",
       "        [6.5, 3. , 5.2, 2. ],\n",
       "        [6.2, 3.4, 5.4, 2.3],\n",
       "        [5.9, 3. , 5.1, 1.8]]),\n",
       " 'target': array([0, 0, 0, 0, 0, 0, 0, 0, 0, 0, 0, 0, 0, 0, 0, 0, 0, 0, 0, 0, 0, 0,\n",
       "        0, 0, 0, 0, 0, 0, 0, 0, 0, 0, 0, 0, 0, 0, 0, 0, 0, 0, 0, 0, 0, 0,\n",
       "        0, 0, 0, 0, 0, 0, 1, 1, 1, 1, 1, 1, 1, 1, 1, 1, 1, 1, 1, 1, 1, 1,\n",
       "        1, 1, 1, 1, 1, 1, 1, 1, 1, 1, 1, 1, 1, 1, 1, 1, 1, 1, 1, 1, 1, 1,\n",
       "        1, 1, 1, 1, 1, 1, 1, 1, 1, 1, 1, 1, 2, 2, 2, 2, 2, 2, 2, 2, 2, 2,\n",
       "        2, 2, 2, 2, 2, 2, 2, 2, 2, 2, 2, 2, 2, 2, 2, 2, 2, 2, 2, 2, 2, 2,\n",
       "        2, 2, 2, 2, 2, 2, 2, 2, 2, 2, 2, 2, 2, 2, 2, 2, 2, 2]),\n",
       " 'frame': None,\n",
       " 'target_names': array(['setosa', 'versicolor', 'virginica'], dtype='<U10'),\n",
       " 'DESCR': '.. _iris_dataset:\\n\\nIris plants dataset\\n--------------------\\n\\n**Data Set Characteristics:**\\n\\n    :Number of Instances: 150 (50 in each of three classes)\\n    :Number of Attributes: 4 numeric, predictive attributes and the class\\n    :Attribute Information:\\n        - sepal length in cm\\n        - sepal width in cm\\n        - petal length in cm\\n        - petal width in cm\\n        - class:\\n                - Iris-Setosa\\n                - Iris-Versicolour\\n                - Iris-Virginica\\n                \\n    :Summary Statistics:\\n\\n    ============== ==== ==== ======= ===== ====================\\n                    Min  Max   Mean    SD   Class Correlation\\n    ============== ==== ==== ======= ===== ====================\\n    sepal length:   4.3  7.9   5.84   0.83    0.7826\\n    sepal width:    2.0  4.4   3.05   0.43   -0.4194\\n    petal length:   1.0  6.9   3.76   1.76    0.9490  (high!)\\n    petal width:    0.1  2.5   1.20   0.76    0.9565  (high!)\\n    ============== ==== ==== ======= ===== ====================\\n\\n    :Missing Attribute Values: None\\n    :Class Distribution: 33.3% for each of 3 classes.\\n    :Creator: R.A. Fisher\\n    :Donor: Michael Marshall (MARSHALL%PLU@io.arc.nasa.gov)\\n    :Date: July, 1988\\n\\nThe famous Iris database, first used by Sir R.A. Fisher. The dataset is taken\\nfrom Fisher\\'s paper. Note that it\\'s the same as in R, but not as in the UCI\\nMachine Learning Repository, which has two wrong data points.\\n\\nThis is perhaps the best known database to be found in the\\npattern recognition literature.  Fisher\\'s paper is a classic in the field and\\nis referenced frequently to this day.  (See Duda & Hart, for example.)  The\\ndata set contains 3 classes of 50 instances each, where each class refers to a\\ntype of iris plant.  One class is linearly separable from the other 2; the\\nlatter are NOT linearly separable from each other.\\n\\n.. topic:: References\\n\\n   - Fisher, R.A. \"The use of multiple measurements in taxonomic problems\"\\n     Annual Eugenics, 7, Part II, 179-188 (1936); also in \"Contributions to\\n     Mathematical Statistics\" (John Wiley, NY, 1950).\\n   - Duda, R.O., & Hart, P.E. (1973) Pattern Classification and Scene Analysis.\\n     (Q327.D83) John Wiley & Sons.  ISBN 0-471-22361-1.  See page 218.\\n   - Dasarathy, B.V. (1980) \"Nosing Around the Neighborhood: A New System\\n     Structure and Classification Rule for Recognition in Partially Exposed\\n     Environments\".  IEEE Transactions on Pattern Analysis and Machine\\n     Intelligence, Vol. PAMI-2, No. 1, 67-71.\\n   - Gates, G.W. (1972) \"The Reduced Nearest Neighbor Rule\".  IEEE Transactions\\n     on Information Theory, May 1972, 431-433.\\n   - See also: 1988 MLC Proceedings, 54-64.  Cheeseman et al\"s AUTOCLASS II\\n     conceptual clustering system finds 3 classes in the data.\\n   - Many, many more ...',\n",
       " 'feature_names': ['sepal length (cm)',\n",
       "  'sepal width (cm)',\n",
       "  'petal length (cm)',\n",
       "  'petal width (cm)'],\n",
       " 'filename': 'iris.csv',\n",
       " 'data_module': 'sklearn.datasets.data'}"
      ]
     },
     "execution_count": 5,
     "metadata": {},
     "output_type": "execute_result"
    }
   ],
   "source": [
    "iris = datasets.load_iris()\n",
    "iris"
   ]
  },
  {
   "cell_type": "code",
   "execution_count": null,
   "id": "d32c1992",
   "metadata": {},
   "outputs": [],
   "source": []
  },
  {
   "cell_type": "code",
   "execution_count": null,
   "id": "9b99a754",
   "metadata": {},
   "outputs": [],
   "source": []
  },
  {
   "cell_type": "code",
   "execution_count": 9,
   "id": "6374824f",
   "metadata": {},
   "outputs": [],
   "source": [
    "X= iris.data\n",
    "Y = iris.target"
   ]
  },
  {
   "cell_type": "code",
   "execution_count": 32,
   "id": "6209decd",
   "metadata": {},
   "outputs": [
    {
     "data": {
      "image/png": "[encoded data removed]",
      "text/plain": [
       "<Figure size 432x288 with 16 Axes>"
      ]
     },
     "metadata": {
      "needs_background": "light"
     },
     "output_type": "display_data"
    }
   ],
   "source": [
    "targets = iris.target_names\n",
    "n_targets = len(targets)\n",
    "features = iris.feature_names\n",
    "n_features = len(features)\n",
    "# Plot pairs of variables\n",
    "cmap = cm.get_cmap('viridis')\n",
    "fig, axs = plt.subplots(n_features, n_features)\n",
    "for i in range(n_features):\n",
    "    for j in range(n_features):\n",
    "        if i != j:\n",
    "            for k in range(n_targets):\n",
    "                axs[i, j].scatter(X[Y==k,j], X[Y==k,i], label = targets[k], color =\n",
    "cmap(k/(n_targets-1)), \n",
    "                                  alpha=0.8, edgecolor='k')\n",
    "        else:\n",
    "            axs[i, j].text(0.5, 0.5, features[i], horizontalalignment='center', \n",
    "                           verticalalignment='center', style='italic', fontsize=14)\n",
    "            axs[i, j].xaxis.set_visible(False)\n",
    "            axs[i, j].yaxis.set_visible(False)\n",
    "           \n",
    "axs[n_features//2 - 1, n_features-1].legend(bbox_to_anchor=(1.5, 0.1))\n",
    "plt.subplots_adjust(right=0.90)\n",
    "plt.show()"
   ]
  },
  {
   "cell_type": "code",
   "execution_count": 10,
   "id": "3ea3c055",
   "metadata": {},
   "outputs": [],
   "source": [
    "from sklearn import svm"
   ]
  },
  {
   "cell_type": "code",
   "execution_count": 12,
   "id": "e88b6e11",
   "metadata": {},
   "outputs": [
    {
     "data": {
      "text/plain": [
       "SVC(kernel='linear')"
      ]
     },
     "execution_count": 12,
     "metadata": {},
     "output_type": "execute_result"
    }
   ],
   "source": [
    "clf = svm.SVC(kernel = 'linear')\n",
    "clf"
   ]
  },
  {
   "cell_type": "code",
   "execution_count": 14,
   "id": "a7f019de",
   "metadata": {},
   "outputs": [
    {
     "data": {
      "text/plain": [
       "SVC(kernel='linear')"
      ]
     },
     "execution_count": 14,
     "metadata": {},
     "output_type": "execute_result"
    }
   ],
   "source": [
    "clf.fit(X,Y)"
   ]
  },
  {
   "cell_type": "code",
   "execution_count": 16,
   "id": "090ee9d8",
   "metadata": {},
   "outputs": [
    {
     "data": {
      "text/plain": [
       "array([2])"
      ]
     },
     "execution_count": 16,
     "metadata": {},
     "output_type": "execute_result"
    }
   ],
   "source": [
    "clf.predict([[1,2,3,4]])"
   ]
  },
  {
   "cell_type": "code",
   "execution_count": 17,
   "id": "f14d71bc",
   "metadata": {},
   "outputs": [],
   "source": [
    "import numpy as np"
   ]
  },
  {
   "cell_type": "code",
   "execution_count": 18,
   "id": "2d1fd6b9",
   "metadata": {},
   "outputs": [
    {
     "data": {
      "text/plain": [
       "array([[0.1410255 , 0.65676717, 0.85173209, 0.6942462 ],\n",
       "       [0.71765851, 0.96580116, 0.5669903 , 0.18325701],\n",
       "       [0.61754717, 0.60104133, 0.85814922, 0.78406615],\n",
       "       [0.17088384, 0.74468951, 0.59690153, 0.47757736],\n",
       "       [0.07594845, 0.16893025, 0.12447234, 0.77009814],\n",
       "       [0.67952474, 0.1100749 , 0.04733054, 0.71986385],\n",
       "       [0.4134268 , 0.70011104, 0.20954088, 0.22070688],\n",
       "       [0.55781862, 0.17180054, 0.11199282, 0.2967757 ],\n",
       "       [0.24195532, 0.02771131, 0.61888223, 0.76192805],\n",
       "       [0.55782877, 0.76707967, 0.81984672, 0.84315573]])"
      ]
     },
     "execution_count": 18,
     "metadata": {},
     "output_type": "execute_result"
    }
   ],
   "source": [
    "obs = np.random.rand(10,4)\n",
    "obs"
   ]
  },
  {
   "cell_type": "code",
   "execution_count": 19,
   "id": "0d4dc7fc",
   "metadata": {},
   "outputs": [
    {
     "data": {
      "text/plain": [
       "array([0, 0, 0, 0, 0, 0, 0, 0, 0, 0])"
      ]
     },
     "execution_count": 19,
     "metadata": {},
     "output_type": "execute_result"
    }
   ],
   "source": [
    "clf.predict(obs)"
   ]
  },
  {
   "cell_type": "code",
   "execution_count": 21,
   "id": "682b7e24",
   "metadata": {},
   "outputs": [],
   "source": [
    "from sklearn.model_selection import StratifiedKFold\n",
    "from sklearn.metrics import confusion_matrix"
   ]
  },
  {
   "cell_type": "code",
   "execution_count": 22,
   "id": "45358af0",
   "metadata": {},
   "outputs": [],
   "source": [
    "kf = StratifiedKFold(n_splits = 10, shuffle = True)"
   ]
  },
  {
   "cell_type": "code",
   "execution_count": 28,
   "id": "c859cac5",
   "metadata": {},
   "outputs": [],
   "source": [
    "recall = np.array([0., 0., 0.])\n",
    "precision = np.array([0., 0., 0.])"
   ]
  },
  {
   "cell_type": "code",
   "execution_count": 52,
   "id": "9bad0c4c",
   "metadata": {},
   "outputs": [
    {
     "name": "stdout",
     "output_type": "stream",
     "text": [
      "MATRIZ DE CONFUSION: [[6 0 0]\n",
      " [0 6 1]\n",
      " [0 0 5]]\n",
      "MATRIZ DE CONFUSION: [[6 0 0]\n",
      " [0 7 0]\n",
      " [0 1 4]]\n",
      "MATRIZ DE CONFUSION: [[6 0 0]\n",
      " [1 6 0]\n",
      " [0 0 5]]\n",
      "MATRIZ DE CONFUSION: [[6 0 0]\n",
      " [0 7 0]\n",
      " [0 0 5]]\n",
      "MATRIZ DE CONFUSION: [[6 0 0]\n",
      " [0 7 0]\n",
      " [0 0 5]]\n",
      "MATRIZ DE CONFUSION: [[6 0 0]\n",
      " [0 7 0]\n",
      " [0 0 5]]\n",
      "MATRIZ DE CONFUSION: [[6 0 0]\n",
      " [0 6 1]\n",
      " [0 0 5]]\n",
      "MATRIZ DE CONFUSION: [[6 0 0]\n",
      " [0 6 1]\n",
      " [0 0 5]]\n",
      "MATRIZ DE CONFUSION: [[6 0 0]\n",
      " [0 7 0]\n",
      " [0 0 4]]\n",
      "MATRIZ DE CONFUSION: [[4 1 0]\n",
      " [0 8 0]\n",
      " [0 0 4]]\n",
      "Precision:  [1.09397976 1.08244972 1.05567548]\n",
      "Recall:  [1.08924667 1.04618507 1.086608  ]\n",
      "Exactitud final: 0.9663398692810456\n"
     ]
    }
   ],
   "source": [
    "acc = 0\n",
    "for train_idx, test_idx in kf.split(X, Y):\n",
    "    x_train, y_train = X[train_idx, :], Y[train_idx]\n",
    "    clf.fit(x_train, y_train)\n",
    "    \n",
    "    x_test, y_test = X[test_idx, :], Y[test_idx]\n",
    "    y_pred = clf.predict(x_test)\n",
    "    \n",
    "    cm = confusion_matrix(y_test, y_pred)\n",
    "    \n",
    "    print(\"MATRIZ DE CONFUSION:\", cm)\n",
    "    \n",
    "    recall[0] += cm[0,0]/(cm[0,0] + cm[0,1] + cm[0,2])\n",
    "    recall[1] += cm[1,1]/(cm[1,0] + cm[1,1] + cm[1,2])\n",
    "    recall[2] += cm[2,2]/(cm[2,0] + cm[2,1] + cm[2,2])\n",
    "    \n",
    "    precision[0] += cm[0,0]/(cm[0,0] + cm[1,0] + cm[2,0])\n",
    "    precision[1] += cm[1,1]/(cm[0,1] + cm[1,1] + cm[2,1])\n",
    "    precision[2] += cm[2,2]/(cm[0,2] + cm[1,2] + cm[2,2])\n",
    "    \n",
    "    acc += (cm[0, 0] + cm[1, 1]+ cm[2,2]) / len(y_test)\n",
    "    \n",
    "acc/=10\n",
    "\n",
    "precision = precision/10\n",
    "\n",
    "print('Precision: ', precision)\n",
    "\n",
    "recall = recall/10\n",
    "\n",
    "print('Recall: ', recall)\n",
    "\n",
    "print(\"Exactitud final:\", acc)"
   ]
  },
  {
   "cell_type": "code",
   "execution_count": null,
   "id": "c55d0f75",
   "metadata": {},
   "outputs": [],
   "source": []
  },
  {
   "cell_type": "markdown",
   "id": "4466059b",
   "metadata": {},
   "source": [
    "# Pregunta 2"
   ]
  },
  {
   "cell_type": "code",
   "execution_count": 41,
   "id": "339daf45",
   "metadata": {},
   "outputs": [
    {
     "data": {
      "text/plain": [
       "{'data': array([[1.423e+01, 1.710e+00, 2.430e+00, ..., 1.040e+00, 3.920e+00,\n",
       "         1.065e+03],\n",
       "        [1.320e+01, 1.780e+00, 2.140e+00, ..., 1.050e+00, 3.400e+00,\n",
       "         1.050e+03],\n",
       "        [1.316e+01, 2.360e+00, 2.670e+00, ..., 1.030e+00, 3.170e+00,\n",
       "         1.185e+03],\n",
       "        ...,\n",
       "        [1.327e+01, 4.280e+00, 2.260e+00, ..., 5.900e-01, 1.560e+00,\n",
       "         8.350e+02],\n",
       "        [1.317e+01, 2.590e+00, 2.370e+00, ..., 6.000e-01, 1.620e+00,\n",
       "         8.400e+02],\n",
       "        [1.413e+01, 4.100e+00, 2.740e+00, ..., 6.100e-01, 1.600e+00,\n",
       "         5.600e+02]]),\n",
       " 'target': array([0, 0, 0, 0, 0, 0, 0, 0, 0, 0, 0, 0, 0, 0, 0, 0, 0, 0, 0, 0, 0, 0,\n",
       "        0, 0, 0, 0, 0, 0, 0, 0, 0, 0, 0, 0, 0, 0, 0, 0, 0, 0, 0, 0, 0, 0,\n",
       "        0, 0, 0, 0, 0, 0, 0, 0, 0, 0, 0, 0, 0, 0, 0, 1, 1, 1, 1, 1, 1, 1,\n",
       "        1, 1, 1, 1, 1, 1, 1, 1, 1, 1, 1, 1, 1, 1, 1, 1, 1, 1, 1, 1, 1, 1,\n",
       "        1, 1, 1, 1, 1, 1, 1, 1, 1, 1, 1, 1, 1, 1, 1, 1, 1, 1, 1, 1, 1, 1,\n",
       "        1, 1, 1, 1, 1, 1, 1, 1, 1, 1, 1, 1, 1, 1, 1, 1, 1, 1, 1, 1, 2, 2,\n",
       "        2, 2, 2, 2, 2, 2, 2, 2, 2, 2, 2, 2, 2, 2, 2, 2, 2, 2, 2, 2, 2, 2,\n",
       "        2, 2, 2, 2, 2, 2, 2, 2, 2, 2, 2, 2, 2, 2, 2, 2, 2, 2, 2, 2, 2, 2,\n",
       "        2, 2]),\n",
       " 'frame': None,\n",
       " 'target_names': array(['class_0', 'class_1', 'class_2'], dtype='<U7'),\n",
       " 'DESCR': '.. _wine_dataset:\\n\\nWine recognition dataset\\n------------------------\\n\\n**Data Set Characteristics:**\\n\\n    :Number of Instances: 178 (50 in each of three classes)\\n    :Number of Attributes: 13 numeric, predictive attributes and the class\\n    :Attribute Information:\\n \\t\\t- Alcohol\\n \\t\\t- Malic acid\\n \\t\\t- Ash\\n\\t\\t- Alcalinity of ash  \\n \\t\\t- Magnesium\\n\\t\\t- Total phenols\\n \\t\\t- Flavanoids\\n \\t\\t- Nonflavanoid phenols\\n \\t\\t- Proanthocyanins\\n\\t\\t- Color intensity\\n \\t\\t- Hue\\n \\t\\t- OD280/OD315 of diluted wines\\n \\t\\t- Proline\\n\\n    - class:\\n            - class_0\\n            - class_1\\n            - class_2\\n\\t\\t\\n    :Summary Statistics:\\n    \\n    ============================= ==== ===== ======= =====\\n                                   Min   Max   Mean     SD\\n    ============================= ==== ===== ======= =====\\n    Alcohol:                      11.0  14.8    13.0   0.8\\n    Malic Acid:                   0.74  5.80    2.34  1.12\\n    Ash:                          1.36  3.23    2.36  0.27\\n    Alcalinity of Ash:            10.6  30.0    19.5   3.3\\n    Magnesium:                    70.0 162.0    99.7  14.3\\n    Total Phenols:                0.98  3.88    2.29  0.63\\n    Flavanoids:                   0.34  5.08    2.03  1.00\\n    Nonflavanoid Phenols:         0.13  0.66    0.36  0.12\\n    Proanthocyanins:              0.41  3.58    1.59  0.57\\n    Colour Intensity:              1.3  13.0     5.1   2.3\\n    Hue:                          0.48  1.71    0.96  0.23\\n    OD280/OD315 of diluted wines: 1.27  4.00    2.61  0.71\\n    Proline:                       278  1680     746   315\\n    ============================= ==== ===== ======= =====\\n\\n    :Missing Attribute Values: None\\n    :Class Distribution: class_0 (59), class_1 (71), class_2 (48)\\n    :Creator: R.A. Fisher\\n    :Donor: Michael Marshall (MARSHALL%PLU@io.arc.nasa.gov)\\n    :Date: July, 1988\\n\\nThis is a copy of UCI ML Wine recognition datasets.\\nhttps://archive.ics.uci.edu/ml/machine-learning-databases/wine/wine.data\\n\\nThe data is the results of a chemical analysis of wines grown in the same\\nregion in Italy by three different cultivators. There are thirteen different\\nmeasurements taken for different constituents found in the three types of\\nwine.\\n\\nOriginal Owners: \\n\\nForina, M. et al, PARVUS - \\nAn Extendible Package for Data Exploration, Classification and Correlation. \\nInstitute of Pharmaceutical and Food Analysis and Technologies,\\nVia Brigata Salerno, 16147 Genoa, Italy.\\n\\nCitation:\\n\\nLichman, M. (2013). UCI Machine Learning Repository\\n[https://archive.ics.uci.edu/ml]. Irvine, CA: University of California,\\nSchool of Information and Computer Science. \\n\\n.. topic:: References\\n\\n  (1) S. Aeberhard, D. Coomans and O. de Vel, \\n  Comparison of Classifiers in High Dimensional Settings, \\n  Tech. Rep. no. 92-02, (1992), Dept. of Computer Science and Dept. of  \\n  Mathematics and Statistics, James Cook University of North Queensland. \\n  (Also submitted to Technometrics). \\n\\n  The data was used with many others for comparing various \\n  classifiers. The classes are separable, though only RDA \\n  has achieved 100% correct classification. \\n  (RDA : 100%, QDA 99.4%, LDA 98.9%, 1NN 96.1% (z-transformed data)) \\n  (All results using the leave-one-out technique) \\n\\n  (2) S. Aeberhard, D. Coomans and O. de Vel, \\n  \"THE CLASSIFICATION PERFORMANCE OF RDA\" \\n  Tech. Rep. no. 92-01, (1992), Dept. of Computer Science and Dept. of \\n  Mathematics and Statistics, James Cook University of North Queensland. \\n  (Also submitted to Journal of Chemometrics).\\n',\n",
       " 'feature_names': ['alcohol',\n",
       "  'malic_acid',\n",
       "  'ash',\n",
       "  'alcalinity_of_ash',\n",
       "  'magnesium',\n",
       "  'total_phenols',\n",
       "  'flavanoids',\n",
       "  'nonflavanoid_phenols',\n",
       "  'proanthocyanins',\n",
       "  'color_intensity',\n",
       "  'hue',\n",
       "  'od280/od315_of_diluted_wines',\n",
       "  'proline']}"
      ]
     },
     "execution_count": 41,
     "metadata": {},
     "output_type": "execute_result"
    }
   ],
   "source": [
    "wine_dataset = datasets.load_wine()\n",
    "wine_dataset"
   ]
  },
  {
   "cell_type": "code",
   "execution_count": 37,
   "id": "7a446619",
   "metadata": {},
   "outputs": [
    {
     "data": {
      "text/plain": [
       "['alcohol',\n",
       " 'malic_acid',\n",
       " 'ash',\n",
       " 'alcalinity_of_ash',\n",
       " 'magnesium',\n",
       " 'total_phenols',\n",
       " 'flavanoids',\n",
       " 'nonflavanoid_phenols',\n",
       " 'proanthocyanins',\n",
       " 'color_intensity',\n",
       " 'hue',\n",
       " 'od280/od315_of_diluted_wines',\n",
       " 'proline']"
      ]
     },
     "execution_count": 37,
     "metadata": {},
     "output_type": "execute_result"
    }
   ],
   "source": [
    "wine_dataset.feature_names"
   ]
  },
  {
   "cell_type": "code",
   "execution_count": 36,
   "id": "3671f111",
   "metadata": {},
   "outputs": [
    {
     "data": {
      "text/plain": [
       "13"
      ]
     },
     "execution_count": 36,
     "metadata": {},
     "output_type": "execute_result"
    }
   ],
   "source": [
    "len(wine_dataset.feature_names)"
   ]
  },
  {
   "cell_type": "code",
   "execution_count": 38,
   "id": "373ff6c6",
   "metadata": {},
   "outputs": [],
   "source": [
    "from sklearn.neighbors import KNeighborsClassifier\n",
    "from sklearn.tree import DecisionTreeClassifier"
   ]
  },
  {
   "cell_type": "code",
   "execution_count": 39,
   "id": "92516dec",
   "metadata": {},
   "outputs": [],
   "source": [
    "svm_lineal = svm.SVC(kernel='linear')\n",
    "svm_radial = svm.SVC(kernel='rbf')\n",
    "k_neigh = KNeighborsClassifier(n_neighbors=3)\n",
    "decision_tree = DecisionTreeClassifier()"
   ]
  },
  {
   "cell_type": "code",
   "execution_count": 131,
   "id": "ad786adb",
   "metadata": {},
   "outputs": [],
   "source": [
    "def get_model_accuracy_kfold(model, k, X, Y):\n",
    "    kf = StratifiedKFold(n_splits = k, shuffle = True)\n",
    "    acc = 0\n",
    "    for train_idx, test_idx in kf.split(X, Y):\n",
    "        x_train, y_train = X[train_idx, :], Y[train_idx]\n",
    "        model.fit(x_train, y_train)\n",
    "\n",
    "        x_test, y_test = X[test_idx, :], Y[test_idx]\n",
    "        y_pred = model.predict(x_test)\n",
    "\n",
    "        cm = confusion_matrix(y_test, y_pred)\n",
    "        \n",
    "        #print(cm)\n",
    "        \n",
    "        #print(len(cm))\n",
    "        acum = 0\n",
    "        for i in range(len(cm)):\n",
    "            acum+=cm[i,i]\n",
    "        acc+=(acum)/len(y_test)\n",
    "\n",
    "        #acc += (cm[0, 0] + cm[1, 1]+ cm[2,2]) / len(y_test)\n",
    "\n",
    "    acc/=k\n",
    "    \n",
    "    return acc"
   ]
  },
  {
   "cell_type": "code",
   "execution_count": 133,
   "id": "09ea847c",
   "metadata": {},
   "outputs": [
    {
     "data": {
      "text/plain": [
       "array([0, 0, 0, 0, 0, 0, 0, 0, 0, 0, 0, 0, 0, 0, 0, 0, 0, 0, 0, 0, 0, 0,\n",
       "       0, 0, 0, 0, 0, 0, 0, 0, 0, 0, 0, 0, 0, 0, 0, 0, 0, 0, 0, 0, 0, 0,\n",
       "       0, 0, 0, 0, 0, 0, 0, 0, 0, 0, 0, 0, 0, 0, 0, 1, 1, 1, 1, 1, 1, 1,\n",
       "       1, 1, 1, 1, 1, 1, 1, 1, 1, 1, 1, 1, 1, 1, 1, 1, 1, 1, 1, 1, 1, 1,\n",
       "       1, 1, 1, 1, 1, 1, 1, 1, 1, 1, 1, 1, 1, 1, 1, 1, 1, 1, 1, 1, 1, 1,\n",
       "       1, 1, 1, 1, 1, 1, 1, 1, 1, 1, 1, 1, 1, 1, 1, 1, 1, 1, 1, 1, 2, 2,\n",
       "       2, 2, 2, 2, 2, 2, 2, 2, 2, 2, 2, 2, 2, 2, 2, 2, 2, 2, 2, 2, 2, 2,\n",
       "       2, 2, 2, 2, 2, 2, 2, 2, 2, 2, 2, 2, 2, 2, 2, 2, 2, 2, 2, 2, 2, 2,\n",
       "       2, 2])"
      ]
     },
     "execution_count": 133,
     "metadata": {},
     "output_type": "execute_result"
    }
   ],
   "source": [
    "X, Y = wine_dataset.data, wine_dataset.target\n",
    "Y"
   ]
  },
  {
   "cell_type": "code",
   "execution_count": 134,
   "id": "ef83d7ce",
   "metadata": {},
   "outputs": [
    {
     "name": "stdout",
     "output_type": "stream",
     "text": [
      "MODELO:  svm lineal\n",
      "ACCURACY: 0.9550793650793651\n",
      "MODELO:  svm_radial\n",
      "ACCURACY: 0.6853968253968253\n",
      "MODELO:  K Neightbors (K=5)\n",
      "ACCURACY: 0.6857142857142857\n",
      "MODELO:  Arbol de decisión\n",
      "ACCURACY: 0.8709523809523809\n"
     ]
    }
   ],
   "source": [
    "models = {svm_lineal:'svm lineal', svm_radial:'svm_radial', k_neigh:'K Neightbors (K=5)', decision_tree:'Arbol de decisión'}\n",
    "\n",
    "for model in models:\n",
    "    print(\"MODELO: \", models[model])\n",
    "    model_acc = get_model_accuracy_kfold(model, 5, X, Y)\n",
    "    print(\"ACCURACY:\",model_acc)"
   ]
  },
  {
   "cell_type": "markdown",
   "id": "e24e1452",
   "metadata": {},
   "source": [
    "## Se obtuvo mejor resultado con el SVM lineal"
   ]
  },
  {
   "cell_type": "markdown",
   "id": "0e312680",
   "metadata": {},
   "source": [
    "# Problema 3"
   ]
  },
  {
   "cell_type": "code",
   "execution_count": 135,
   "id": "7a8d0ba1",
   "metadata": {},
   "outputs": [],
   "source": [
    "with open('misterious_data_1.txt', 'r') as f:\n",
    "    c=0\n",
    "    Y_arr = []\n",
    "    X_arr = []\n",
    "    for line in f.readlines():\n",
    "        elementos = line.split('\\t')\n",
    "        #print(elementos[0])\n",
    "        Y_arr.append(elementos[0])\n",
    "        X_arr.append(elementos[1:])\n",
    "    \n",
    "    X,Y = np.array(X_arr), np.array(Y_arr)"
   ]
  },
  {
   "cell_type": "code",
   "execution_count": 122,
   "id": "df9f64d2",
   "metadata": {},
   "outputs": [],
   "source": [
    "linear_svm = svm.SVC(kernel='linear')"
   ]
  },
  {
   "cell_type": "code",
   "execution_count": 136,
   "id": "21aeec53",
   "metadata": {},
   "outputs": [
    {
     "name": "stdout",
     "output_type": "stream",
     "text": [
      "Accuracy 0.7766576819407007\n"
     ]
    }
   ],
   "source": [
    "accur = get_model_accuracy_kfold(linear_svm, 5, X, Y)\n",
    "print(\"Accuracy\", accur)"
   ]
  },
  {
   "cell_type": "markdown",
   "id": "9309467a",
   "metadata": {},
   "source": [
    "# Problema 4"
   ]
  },
  {
   "cell_type": "code",
   "execution_count": 138,
   "id": "4737f6bc",
   "metadata": {},
   "outputs": [
    {
     "data": {
      "text/plain": [
       "array([1, 1, 1, 1, 1, 1, 1, 1, 1, 1, 1, 1, 1, 1, 1, 1, 1, 1, 1, 1, 1, 1,\n",
       "       1, 1, 1, 1, 1, 1, 1, 1, 1, 1, 1, 1, 1, 1, 1, 1, 1, 1, 1, 1, 1, 1,\n",
       "       1, 1, 1, 1, 1, 1, 1, 1, 1, 1, 1, 1, 1, 1, 1, 1, 1, 1, 1, 1, 1, 1,\n",
       "       1, 1, 1, 1, 1, 1, 1, 1, 1, 1, 1, 1, 2, 2, 2, 2, 2, 2, 2, 2, 2, 2,\n",
       "       2, 2, 2, 2, 2, 2, 2, 2, 2, 2, 2, 2, 2, 2, 2, 2, 2, 2, 2, 2, 2, 2,\n",
       "       2, 2, 2, 2, 2, 2, 2, 2, 2, 2, 2, 2, 2, 2, 2, 2, 2, 2, 2, 2, 2, 2,\n",
       "       2, 2, 2, 2, 2, 2, 2, 2, 2, 2, 2, 2, 2, 2, 2, 2, 2, 2, 2, 2, 2, 2,\n",
       "       2, 2, 3, 3, 3, 3, 3, 3, 3, 3, 3, 3, 3, 3, 3, 3, 3, 3, 3, 3, 3, 3,\n",
       "       3, 3, 3, 3, 3, 3, 3, 3, 3, 3, 3, 3, 3, 3, 3, 3, 3, 3, 3, 3, 3, 3,\n",
       "       3, 3, 3, 3, 3, 3, 3, 3, 3, 3, 3, 3, 3, 3, 3, 3, 3, 3, 3, 3, 3, 3,\n",
       "       3, 3, 3, 3, 3, 3, 3, 3, 3, 3, 3, 3, 3, 3])"
      ]
     },
     "execution_count": 138,
     "metadata": {},
     "output_type": "execute_result"
    }
   ],
   "source": [
    "with open('misterious_data_2.txt', 'r') as f:\n",
    "    c=0\n",
    "    Y_arr = []\n",
    "    X_arr = []\n",
    "    for line in f.readlines():\n",
    "        elementos = line.split('\\t')\n",
    "        #print(elementos[0])\n",
    "        Y_arr.append(int(elementos[0]))\n",
    "        X_arr.append(list(map(float,elementos[1:])))\n",
    "    \n",
    "    X2,Y2 = np.array(X_arr), np.array(Y_arr)\n",
    "Y2"
   ]
  },
  {
   "cell_type": "code",
   "execution_count": 116,
   "id": "331da4a6",
   "metadata": {},
   "outputs": [
    {
     "data": {
      "text/plain": [
       "array([ 1,  2,  3,  4,  5,  6,  7,  8,  9, 10, 11, 12, 13, 14, 15, 16, 17,\n",
       "       18, 19, 20, 21, 22, 23, 24, 25, 26, 27, 28, 29, 30, 31, 32, 33, 34,\n",
       "       35, 36, 37, 38, 39, 40])"
      ]
     },
     "execution_count": 116,
     "metadata": {},
     "output_type": "execute_result"
    }
   ],
   "source": [
    "all_k = np.arange(1,41,1)\n",
    "all_k"
   ]
  },
  {
   "cell_type": "code",
   "execution_count": 114,
   "id": "6d8cba14",
   "metadata": {},
   "outputs": [
    {
     "data": {
      "text/plain": [
       "array([1.0e-06, 2.0e-06, 3.0e-06, 4.0e-06, 5.0e-06, 6.0e-06, 7.0e-06,\n",
       "       8.0e-06, 9.0e-06, 1.0e-05, 1.1e-05, 1.2e-05, 1.3e-05, 1.4e-05,\n",
       "       1.5e-05, 1.6e-05, 1.7e-05, 1.8e-05, 1.9e-05, 2.0e-05, 2.1e-05,\n",
       "       2.2e-05, 2.3e-05, 2.4e-05, 2.5e-05, 2.6e-05, 2.7e-05, 2.8e-05,\n",
       "       2.9e-05, 3.0e-05, 3.1e-05, 3.2e-05, 3.3e-05, 3.4e-05, 3.5e-05,\n",
       "       3.6e-05, 3.7e-05, 3.8e-05, 3.9e-05, 4.0e-05, 4.1e-05, 4.2e-05,\n",
       "       4.3e-05, 4.4e-05, 4.5e-05, 4.6e-05, 4.7e-05, 4.8e-05, 4.9e-05,\n",
       "       5.0e-05, 5.1e-05, 5.2e-05, 5.3e-05, 5.4e-05, 5.5e-05, 5.6e-05,\n",
       "       5.7e-05, 5.8e-05, 5.9e-05, 6.0e-05, 6.1e-05, 6.2e-05, 6.3e-05,\n",
       "       6.4e-05, 6.5e-05, 6.6e-05, 6.7e-05, 6.8e-05, 6.9e-05, 7.0e-05,\n",
       "       7.1e-05, 7.2e-05, 7.3e-05, 7.4e-05, 7.5e-05, 7.6e-05, 7.7e-05,\n",
       "       7.8e-05, 7.9e-05, 8.0e-05, 8.1e-05, 8.2e-05, 8.3e-05, 8.4e-05,\n",
       "       8.5e-05, 8.6e-05, 8.7e-05, 8.8e-05, 8.9e-05, 9.0e-05, 9.1e-05,\n",
       "       9.2e-05, 9.3e-05, 9.4e-05, 9.5e-05, 9.6e-05, 9.7e-05, 9.8e-05,\n",
       "       9.9e-05, 1.0e-04])"
      ]
     },
     "execution_count": 114,
     "metadata": {},
     "output_type": "execute_result"
    }
   ],
   "source": [
    "reg_factors = np.arange(0.000001, 0.0001, 0.000001)\n",
    "reg_factors"
   ]
  },
  {
   "cell_type": "code",
   "execution_count": 109,
   "id": "8d6855b5",
   "metadata": {},
   "outputs": [
    {
     "data": {
      "text/plain": [
       "array([1.00e-06, 2.00e-06, 3.00e-06, 4.00e-06, 5.00e-06, 6.00e-06,\n",
       "       7.00e-06, 8.00e-06, 9.00e-06, 1.00e-05, 1.10e-05, 1.20e-05,\n",
       "       1.30e-05, 1.40e-05, 1.50e-05, 1.60e-05, 1.70e-05, 1.80e-05,\n",
       "       1.90e-05, 2.00e-05, 2.10e-05, 2.20e-05, 2.30e-05, 2.40e-05,\n",
       "       2.50e-05, 2.60e-05, 2.70e-05, 2.80e-05, 2.90e-05, 3.00e-05,\n",
       "       3.10e-05, 3.20e-05, 3.30e-05, 3.40e-05, 3.50e-05, 3.60e-05,\n",
       "       3.70e-05, 3.80e-05, 3.90e-05, 4.00e-05, 4.10e-05, 4.20e-05,\n",
       "       4.30e-05, 4.40e-05, 4.50e-05, 4.60e-05, 4.70e-05, 4.80e-05,\n",
       "       4.90e-05, 5.00e-05, 5.10e-05, 5.20e-05, 5.30e-05, 5.40e-05,\n",
       "       5.50e-05, 5.60e-05, 5.70e-05, 5.80e-05, 5.90e-05, 6.00e-05,\n",
       "       6.10e-05, 6.20e-05, 6.30e-05, 6.40e-05, 6.50e-05, 6.60e-05,\n",
       "       6.70e-05, 6.80e-05, 6.90e-05, 7.00e-05, 7.10e-05, 7.20e-05,\n",
       "       7.30e-05, 7.40e-05, 7.50e-05, 7.60e-05, 7.70e-05, 7.80e-05,\n",
       "       7.90e-05, 8.00e-05, 8.10e-05, 8.20e-05, 8.30e-05, 8.40e-05,\n",
       "       8.50e-05, 8.60e-05, 8.70e-05, 8.80e-05, 8.90e-05, 9.00e-05,\n",
       "       9.10e-05, 9.20e-05, 9.30e-05, 9.40e-05, 9.50e-05, 9.60e-05,\n",
       "       9.70e-05, 9.80e-05, 9.90e-05, 1.00e-04, 1.01e-04, 1.02e-04,\n",
       "       1.03e-04, 1.04e-04, 1.05e-04, 1.06e-04, 1.07e-04, 1.08e-04,\n",
       "       1.09e-04, 1.10e-04, 1.11e-04, 1.12e-04, 1.13e-04, 1.14e-04,\n",
       "       1.15e-04, 1.16e-04, 1.17e-04, 1.18e-04, 1.19e-04, 1.20e-04,\n",
       "       1.21e-04, 1.22e-04, 1.23e-04, 1.24e-04, 1.25e-04, 1.26e-04,\n",
       "       1.27e-04, 1.28e-04, 1.29e-04, 1.30e-04, 1.31e-04, 1.32e-04,\n",
       "       1.33e-04, 1.34e-04, 1.35e-04, 1.36e-04, 1.37e-04, 1.38e-04,\n",
       "       1.39e-04, 1.40e-04, 1.41e-04, 1.42e-04, 1.43e-04, 1.44e-04,\n",
       "       1.45e-04, 1.46e-04, 1.47e-04, 1.48e-04, 1.49e-04, 1.50e-04,\n",
       "       1.51e-04, 1.52e-04, 1.53e-04, 1.54e-04, 1.55e-04, 1.56e-04,\n",
       "       1.57e-04, 1.58e-04, 1.59e-04, 1.60e-04, 1.61e-04, 1.62e-04,\n",
       "       1.63e-04, 1.64e-04, 1.65e-04, 1.66e-04, 1.67e-04, 1.68e-04,\n",
       "       1.69e-04, 1.70e-04, 1.71e-04, 1.72e-04, 1.73e-04, 1.74e-04,\n",
       "       1.75e-04, 1.76e-04, 1.77e-04, 1.78e-04, 1.79e-04, 1.80e-04,\n",
       "       1.81e-04, 1.82e-04, 1.83e-04, 1.84e-04, 1.85e-04, 1.86e-04,\n",
       "       1.87e-04, 1.88e-04, 1.89e-04, 1.90e-04, 1.91e-04, 1.92e-04,\n",
       "       1.93e-04, 1.94e-04, 1.95e-04, 1.96e-04, 1.97e-04, 1.98e-04,\n",
       "       1.99e-04, 2.00e-04])"
      ]
     },
     "execution_count": 109,
     "metadata": {},
     "output_type": "execute_result"
    }
   ],
   "source": [
    "kernel_gamma_factors = np.arange(0.000001, 0.0002, 0.000001)\n",
    "kernel_gamma_factors"
   ]
  },
  {
   "cell_type": "code",
   "execution_count": 143,
   "id": "27b65b67",
   "metadata": {},
   "outputs": [
    {
     "name": "stdout",
     "output_type": "stream",
     "text": [
      "BEST VALUE FOR K: 7 WITH ACCURACY: 0.9488436632747457\n"
     ]
    }
   ],
   "source": [
    "highest_acc = -1\n",
    "best_k = 0\n",
    "\n",
    "for k_val in all_k:\n",
    "    current_model = KNeighborsClassifier(n_neighbors=k_val)\n",
    "    current_accuracy = get_model_accuracy_kfold(current_model, 5, X2, Y2)\n",
    "\n",
    "    if current_accuracy > highest_acc:\n",
    "        highest_acc = current_accuracy\n",
    "        best_k = k_val\n",
    "        \n",
    "print(\"BEST VALUE FOR K:\", best_k, \"WITH ACCURACY:\", highest_acc)\n"
   ]
  },
  {
   "cell_type": "code",
   "execution_count": 148,
   "id": "eb60957d",
   "metadata": {},
   "outputs": [
    {
     "name": "stdout",
     "output_type": "stream",
     "text": [
      "BEST VALUE FOR REGULARIZATION FACTOR: 0.000092 WITH ACCURACY: 0.8717853839037927\n"
     ]
    }
   ],
   "source": [
    "highest_acc = -1\n",
    "best_reg = 0\n",
    "\n",
    "for curr_reg in reg_factors:\n",
    "    current_model = svm.SVC(kernel='linear', C=curr_reg)\n",
    "    current_accuracy = get_model_accuracy_kfold(current_model, 5, X2, Y2)\n",
    "\n",
    "    if current_accuracy > highest_acc:\n",
    "        highest_acc = current_accuracy\n",
    "        best_reg = curr_reg\n",
    "        \n",
    "print(\"BEST VALUE FOR REGULARIZATION FACTOR:\", format(float(best_reg), 'f') , \"WITH ACCURACY:\", highest_acc)\n"
   ]
  },
  {
   "cell_type": "code",
   "execution_count": 149,
   "id": "c9a0c2b7",
   "metadata": {},
   "outputs": [
    {
     "name": "stdout",
     "output_type": "stream",
     "text": [
      "BEST VALUE FOR REGULARIZATION FACTOR: 0.000195 WITH ACCURACY: 0.9231267345050878\n"
     ]
    }
   ],
   "source": [
    "highest_acc = -1\n",
    "best_kernel_gamma_factor = 0\n",
    "\n",
    "for curr_ker_gamma in kernel_gamma_factors:\n",
    "    current_model = svm.SVC(kernel='rbf', gamma=curr_ker_gamma)\n",
    "    current_accuracy = get_model_accuracy_kfold(current_model, 5, X2, Y2)\n",
    "\n",
    "    if current_accuracy > highest_acc:\n",
    "        highest_acc = current_accuracy\n",
    "        best_kernel_gamma_factor = curr_ker_gamma\n",
    "        \n",
    "print(\"BEST VALUE FOR REGULARIZATION FACTOR:\", format(float(best_kernel_gamma_factor), 'f') , \"WITH ACCURACY:\", highest_acc)\n"
   ]
  },
  {
   "cell_type": "code",
   "execution_count": null,
   "id": "e274d586",
   "metadata": {},
   "outputs": [],
   "source": []
  }
 ],
 "metadata": {
  "kernelspec": {
   "display_name": "Python 3 (ipykernel)",
   "language": "python",
   "name": "python3"
  },
  "language_info": {
   "codemirror_mode": {
    "name": "ipython",
    "version": 3
   },
   "file_extension": ".py",
   "mimetype": "text/x-python",
   "name": "python",
   "nbconvert_exporter": "python",
   "pygments_lexer": "ipython3",
   "version": "3.8.10"
  }
 },
 "nbformat": 4,
 "nbformat_minor": 5
}
