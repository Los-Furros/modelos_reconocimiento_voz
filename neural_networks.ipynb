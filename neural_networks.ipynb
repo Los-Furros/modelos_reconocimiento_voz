{
 "cells": [
  {
   "cell_type": "code",
   "execution_count": 1,
   "id": "062057b0",
   "metadata": {},
   "outputs": [],
   "source": [
    "f = open('misterious_data_1.txt', 'r')\n"
   ]
  },
  {
   "cell_type": "code",
   "execution_count": 2,
   "id": "fa428c7c",
   "metadata": {},
   "outputs": [],
   "source": [
    "from sklearn import datasets, neural_network\n"
   ]
  },
  {
   "cell_type": "code",
   "execution_count": 3,
   "id": "02ce34e3",
   "metadata": {},
   "outputs": [],
   "source": [
    "from sklearn.neural_network import MLPClassifier"
   ]
  },
  {
   "cell_type": "code",
   "execution_count": null,
   "id": "f0564ae5",
   "metadata": {},
   "outputs": [],
   "source": []
  }
 ],
 "metadata": {
  "kernelspec": {
   "display_name": "Python 3 (ipykernel)",
   "language": "python",
   "name": "python3"
  },
  "language_info": {
   "codemirror_mode": {
    "name": "ipython",
    "version": 3
   },
   "file_extension": ".py",
   "mimetype": "text/x-python",
   "name": "python",
   "nbconvert_exporter": "python",
   "pygments_lexer": "ipython3",
   "version": "3.8.10"
  }
 },
 "nbformat": 4,
 "nbformat_minor": 5
}
