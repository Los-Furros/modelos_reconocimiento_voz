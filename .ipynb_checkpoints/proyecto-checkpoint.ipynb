{
 "cells": [
  {
   "cell_type": "code",
   "execution_count": null,
   "id": "c4c22ce0",
   "metadata": {},
   "outputs": [],
   "source": [
    "#------------------------------------------------------------------------------------------------------------------\n",
    "#   Speech data processing\n",
    "#------------------------------------------------------------------------------------------------------------------\n",
    "import pickle\n",
    "import numpy as np\n",
    "from scipy import stats\n",
    "from scipy import signal\n",
    "import matplotlib.pyplot as plt\n",
    "import sounddevice as sd\n",
    "from python_speech_features import mfcc\n",
    "# Load audio records\n",
    "fs = 44100\n",
    "file_name = '04_29_2022_16_29_14.obj'\n",
    "inputFile = open(file_name, 'rb')\n",
    "data = pickle.load(inputFile)\n",
    "n_trials = len(data)\n",
    "# Plot one record\n",
    "t = 5\n",
    "dt = 1/fs\n",
    "t_size = data[t][2].shape[0]\n",
    "x = np.arange(0, t_size*dt, dt)\n",
    "figure, axis = plt.subplots(2, 1)\n",
    "axis[0].plot(x, data[t][2][:,0])\n",
    "axis[0].set_title(\"Canal 1\")\n",
    "axis[1].plot(x, data[t][2][:,1])\n",
    "axis[1].set_title(\"Canal 2\")\n",
    "plt.show()\n",
    "# Filter signals\n",
    "filt = signal.iirfilter(4, [10, 15000], rs=60, btype='band',\n",
    "                       analog=False, ftype='cheby2', fs=fs,\n",
    "                       output='ba')\n",
    "filtered = []\n",
    "for tr in data:\n",
    "    ff1 = signal.filtfilt(filt[0], filt[1], tr[2][:,0], method='gust')\n",
    "    ff2 = signal.filtfilt(filt[0], filt[1], tr[2][:,1], method='gust')\n",
    "    filtered.append(np.column_stack((ff1, ff2)))\n",
    "figure, axis = plt.subplots(2, 1)\n",
    "axis[0].plot(x, filtered[t][:,0])\n",
    "axis[0].set_title(\"Canal 1\")\n",
    "axis[1].plot(x, filtered[t][:,1])\n",
    "axis[1].set_title(\"Canal 2\")\n",
    "plt.show()\n",
    "sd.play(filtered[t], fs)\n",
    "sd.wait()\n",
    "sd.play(data[t][2], fs)\n",
    "sd.wait()\n",
    "# Calculate MFCC features\n",
    "mfcc_feat = mfcc(filtered[t], fs, nfft = 2048)\n",
    "plt.matshow(mfcc_feat.T)\n",
    "plt.show()\n",
    "features = []\n",
    "for tr in data:\n",
    "    mfcc_feat = mfcc(tr[2], fs, nfft = 2048)\n",
    "    features.append(mfcc_feat.flatten())\n",
    "# Build x and y arrays\n",
    "x = np.array(features)\n",
    "y = [row[1] for row in data]\n",
    "#------------------------------------------------------------------------------------------------------------------\n",
    "#   End of file\n",
    "#------------------------------------------------------------------------------------------------------------------"
   ]
  },
  {
   "cell_type": "code",
   "execution_count": 2,
   "id": "2950647e",
   "metadata": {},
   "outputs": [
    {
     "name": "stdout",
     "output_type": "stream",
     "text": [
      "Collecting numpy\n",
      "  Using cached numpy-1.22.3-cp38-cp38-manylinux_2_17_x86_64.manylinux2014_x86_64.whl (16.8 MB)\n",
      "Installing collected packages: numpy\n",
      "Successfully installed numpy-1.22.3\n",
      "Note: you may need to restart the kernel to use updated packages.\n"
     ]
    }
   ],
   "source": [
    "pip install numpy"
   ]
  },
  {
   "cell_type": "code",
   "execution_count": 4,
   "id": "ced83271",
   "metadata": {},
   "outputs": [
    {
     "name": "stdout",
     "output_type": "stream",
     "text": [
      "Collecting scipy\n",
      "  Downloading scipy-1.8.1-cp38-cp38-manylinux_2_17_x86_64.manylinux2014_x86_64.whl (41.6 MB)\n",
      "\u001b[K     |████████████████████████████████| 41.6 MB 41 kB/s s eta 0:00:01\n",
      "\u001b[?25hRequirement already satisfied: numpy<1.25.0,>=1.17.3 in /mnt/c/TEC/OCTAVO_b/SISTEMAS/proyecto_final/2da_entrega/env_2da/lib/python3.8/site-packages (from scipy) (1.22.3)\n",
      "Installing collected packages: scipy\n",
      "Successfully installed scipy-1.8.1\n",
      "Note: you may need to restart the kernel to use updated packages.\n"
     ]
    }
   ],
   "source": [
    "pip install scipy"
   ]
  },
  {
   "cell_type": "code",
   "execution_count": 6,
   "id": "9e164030",
   "metadata": {},
   "outputs": [
    {
     "name": "stdout",
     "output_type": "stream",
     "text": [
      "Collecting matplotlib\n",
      "  Downloading matplotlib-3.5.2-cp38-cp38-manylinux_2_5_x86_64.manylinux1_x86_64.whl (11.3 MB)\n",
      "\u001b[K     |████████████████████████████████| 11.3 MB 3.8 MB/s eta 0:00:01\n",
      "\u001b[?25hCollecting kiwisolver>=1.0.1\n",
      "  Using cached kiwisolver-1.4.2-cp38-cp38-manylinux_2_5_x86_64.manylinux1_x86_64.whl (1.2 MB)\n",
      "Requirement already satisfied: python-dateutil>=2.7 in /mnt/c/TEC/OCTAVO_b/SISTEMAS/proyecto_final/2da_entrega/env_2da/lib/python3.8/site-packages (from matplotlib) (2.8.2)\n",
      "Collecting pillow>=6.2.0\n",
      "  Downloading Pillow-9.1.1-cp38-cp38-manylinux_2_17_x86_64.manylinux2014_x86_64.whl (3.1 MB)\n",
      "\u001b[K     |████████████████████████████████| 3.1 MB 17.9 MB/s eta 0:00:01\n",
      "\u001b[?25hCollecting fonttools>=4.22.0\n",
      "  Downloading fonttools-4.33.3-py3-none-any.whl (930 kB)\n",
      "\u001b[K     |████████████████████████████████| 930 kB 16.5 MB/s eta 0:00:01\n",
      "\u001b[?25hCollecting cycler>=0.10\n",
      "  Using cached cycler-0.11.0-py3-none-any.whl (6.4 kB)\n",
      "Requirement already satisfied: numpy>=1.17 in /mnt/c/TEC/OCTAVO_b/SISTEMAS/proyecto_final/2da_entrega/env_2da/lib/python3.8/site-packages (from matplotlib) (1.22.3)\n",
      "Requirement already satisfied: packaging>=20.0 in /mnt/c/TEC/OCTAVO_b/SISTEMAS/proyecto_final/2da_entrega/env_2da/lib/python3.8/site-packages (from matplotlib) (21.3)\n",
      "Requirement already satisfied: pyparsing>=2.2.1 in /mnt/c/TEC/OCTAVO_b/SISTEMAS/proyecto_final/2da_entrega/env_2da/lib/python3.8/site-packages (from matplotlib) (3.0.9)\n",
      "Requirement already satisfied: six>=1.5 in /mnt/c/TEC/OCTAVO_b/SISTEMAS/proyecto_final/2da_entrega/env_2da/lib/python3.8/site-packages (from python-dateutil>=2.7->matplotlib) (1.16.0)\n",
      "Installing collected packages: kiwisolver, pillow, fonttools, cycler, matplotlib\n",
      "Successfully installed cycler-0.11.0 fonttools-4.33.3 kiwisolver-1.4.2 matplotlib-3.5.2 pillow-9.1.1\n",
      "Note: you may need to restart the kernel to use updated packages.\n"
     ]
    }
   ],
   "source": [
    "pip install matplotlib"
   ]
  },
  {
   "cell_type": "code",
   "execution_count": 8,
   "id": "834abe0a",
   "metadata": {},
   "outputs": [
    {
     "name": "stdout",
     "output_type": "stream",
     "text": [
      "Collecting sounddevice\n",
      "  Downloading sounddevice-0.4.4-py3-none-any.whl (31 kB)\n",
      "Requirement already satisfied: CFFI>=1.0 in /mnt/c/TEC/OCTAVO_b/SISTEMAS/proyecto_final/2da_entrega/env_2da/lib/python3.8/site-packages (from sounddevice) (1.15.0)\n",
      "Requirement already satisfied: pycparser in /mnt/c/TEC/OCTAVO_b/SISTEMAS/proyecto_final/2da_entrega/env_2da/lib/python3.8/site-packages (from CFFI>=1.0->sounddevice) (2.21)\n",
      "Installing collected packages: sounddevice\n",
      "Successfully installed sounddevice-0.4.4\n",
      "Note: you may need to restart the kernel to use updated packages.\n"
     ]
    }
   ],
   "source": [
    "pip install sounddevice"
   ]
  },
  {
   "cell_type": "code",
   "execution_count": null,
   "id": "b509be59",
   "metadata": {},
   "outputs": [],
   "source": []
  },
  {
   "cell_type": "code",
   "execution_count": 1,
   "id": "f2ef153c",
   "metadata": {},
   "outputs": [
    {
     "name": "stdout",
     "output_type": "stream",
     "text": [
      "Collecting numpy\n",
      "  Downloading numpy-1.22.3-cp39-cp39-win_amd64.whl (14.7 MB)\n",
      "     --------------------------------------- 14.7/14.7 MB 11.7 MB/s eta 0:00:00\n",
      "Collecting scipy\n",
      "  Downloading scipy-1.8.1-cp39-cp39-win_amd64.whl (36.9 MB)\n",
      "     ---------------------------------------- 36.9/36.9 MB 6.2 MB/s eta 0:00:00\n",
      "Collecting matplotlib\n",
      "  Downloading matplotlib-3.5.2-cp39-cp39-win_amd64.whl (7.2 MB)\n",
      "     ---------------------------------------- 7.2/7.2 MB 13.5 MB/s eta 0:00:00\n",
      "Collecting sounddevice\n",
      "  Downloading sounddevice-0.4.4-py3-none-win_amd64.whl (195 kB)\n",
      "     -------------------------------------- 195.8/195.8 KB 3.9 MB/s eta 0:00:00\n",
      "Collecting pillow>=6.2.0\n",
      "  Downloading Pillow-9.1.1-cp39-cp39-win_amd64.whl (3.3 MB)\n",
      "     ---------------------------------------- 3.3/3.3 MB 3.4 MB/s eta 0:00:00\n",
      "Collecting kiwisolver>=1.0.1\n",
      "  Downloading kiwisolver-1.4.2-cp39-cp39-win_amd64.whl (55 kB)\n",
      "     ---------------------------------------- 55.4/55.4 KB 1.5 MB/s eta 0:00:00\n",
      "Collecting fonttools>=4.22.0\n",
      "  Downloading fonttools-4.33.3-py3-none-any.whl (930 kB)\n",
      "     -------------------------------------- 930.9/930.9 KB 3.5 MB/s eta 0:00:00\n",
      "Requirement already satisfied: python-dateutil>=2.7 in c:\\tec\\octavo_b\\sistemas\\proyecto_final\\2da_entrega\\prueba_env\\lib\\site-packages (from matplotlib) (2.8.2)\n",
      "Requirement already satisfied: packaging>=20.0 in c:\\tec\\octavo_b\\sistemas\\proyecto_final\\2da_entrega\\prueba_env\\lib\\site-packages (from matplotlib) (21.3)\n",
      "Collecting cycler>=0.10\n",
      "  Downloading cycler-0.11.0-py3-none-any.whl (6.4 kB)\n",
      "Requirement already satisfied: pyparsing>=2.2.1 in c:\\tec\\octavo_b\\sistemas\\proyecto_final\\2da_entrega\\prueba_env\\lib\\site-packages (from matplotlib) (3.0.9)\n",
      "Requirement already satisfied: CFFI>=1.0 in c:\\tec\\octavo_b\\sistemas\\proyecto_final\\2da_entrega\\prueba_env\\lib\\site-packages (from sounddevice) (1.15.0)\n",
      "Requirement already satisfied: pycparser in c:\\tec\\octavo_b\\sistemas\\proyecto_final\\2da_entrega\\prueba_env\\lib\\site-packages (from CFFI>=1.0->sounddevice) (2.21)\n",
      "Requirement already satisfied: six>=1.5 in c:\\tec\\octavo_b\\sistemas\\proyecto_final\\2da_entrega\\prueba_env\\lib\\site-packages (from python-dateutil>=2.7->matplotlib) (1.16.0)\n",
      "Installing collected packages: pillow, numpy, kiwisolver, fonttools, cycler, sounddevice, scipy, matplotlib\n",
      "Successfully installed cycler-0.11.0 fonttools-4.33.3 kiwisolver-1.4.2 matplotlib-3.5.2 numpy-1.22.3 pillow-9.1.1 scipy-1.8.1 sounddevice-0.4.4\n",
      "Note: you may need to restart the kernel to use updated packages.\n"
     ]
    },
    {
     "name": "stderr",
     "output_type": "stream",
     "text": [
      "WARNING: You are using pip version 22.0.4; however, version 22.1 is available.\n",
      "You should consider upgrading via the 'C:\\TEC\\OCTAVO_b\\SISTEMAS\\proyecto_final\\2da_entrega\\prueba_env\\Scripts\\python.exe -m pip install --upgrade pip' command.\n"
     ]
    }
   ],
   "source": [
    "pip install numpy scipy matplotlib sounddevice"
   ]
  },
  {
   "cell_type": "code",
   "execution_count": null,
   "id": "b40ea3f0",
   "metadata": {},
   "outputs": [],
   "source": []
  },
  {
   "cell_type": "code",
   "execution_count": 22,
   "id": "e870d0b3",
   "metadata": {},
   "outputs": [],
   "source": [
    "#IGNORAR ESTO\n",
    "# !sudo apt-get install libportaudio2\n"
   ]
  },
  {
   "cell_type": "code",
   "execution_count": 2,
   "id": "f14bd5d8",
   "metadata": {},
   "outputs": [
    {
     "ename": "ModuleNotFoundError",
     "evalue": "No module named 'python_speech_features'",
     "output_type": "error",
     "traceback": [
      "\u001b[1;31m---------------------------------------------------------------------------\u001b[0m",
      "\u001b[1;31mModuleNotFoundError\u001b[0m                       Traceback (most recent call last)",
      "Input \u001b[1;32mIn [2]\u001b[0m, in \u001b[0;36m<cell line: 7>\u001b[1;34m()\u001b[0m\n\u001b[0;32m      5\u001b[0m \u001b[38;5;28;01mimport\u001b[39;00m \u001b[38;5;21;01mmatplotlib\u001b[39;00m\u001b[38;5;21;01m.\u001b[39;00m\u001b[38;5;21;01mpyplot\u001b[39;00m \u001b[38;5;28;01mas\u001b[39;00m \u001b[38;5;21;01mplt\u001b[39;00m\n\u001b[0;32m      6\u001b[0m \u001b[38;5;28;01mimport\u001b[39;00m \u001b[38;5;21;01msounddevice\u001b[39;00m \u001b[38;5;28;01mas\u001b[39;00m \u001b[38;5;21;01msd\u001b[39;00m\n\u001b[1;32m----> 7\u001b[0m \u001b[38;5;28;01mfrom\u001b[39;00m \u001b[38;5;21;01mpython_speech_features\u001b[39;00m \u001b[38;5;28;01mimport\u001b[39;00m mfcc\n",
      "\u001b[1;31mModuleNotFoundError\u001b[0m: No module named 'python_speech_features'"
     ]
    }
   ],
   "source": [
    "import pickle\n",
    "import numpy as np\n",
    "from scipy import stats\n",
    "from scipy import signal\n",
    "import matplotlib.pyplot as plt\n",
    "import sounddevice as sd\n",
    "from python_speech_features import mfcc"
   ]
  },
  {
   "cell_type": "code",
   "execution_count": null,
   "id": "6d0a681a",
   "metadata": {},
   "outputs": [],
   "source": []
  },
  {
   "cell_type": "code",
   "execution_count": 6,
   "id": "093856a7",
   "metadata": {
    "scrolled": true
   },
   "outputs": [
    {
     "name": "stdout",
     "output_type": "stream",
     "text": [
      "*********\n",
      "Hola\n",
      "----Descansa----\n",
      "*********\n",
      "Adios\n",
      "----Descansa----\n",
      "*********\n",
      "Si\n",
      "----Descansa----\n",
      "*********\n",
      "Hola\n",
      "----Descansa----\n",
      "*********\n",
      "No\n",
      "----Descansa----\n",
      "*********\n",
      "Hola\n",
      "----Descansa----\n",
      "*********\n",
      "No\n",
      "----Descansa----\n",
      "*********\n",
      "Hola\n",
      "----Descansa----\n",
      "*********\n",
      "Adios\n",
      "----Descansa----\n",
      "*********\n",
      "Más\n",
      "----Descansa----\n",
      "*********\n",
      "Menos\n",
      "----Descansa----\n",
      "*********\n",
      "No\n",
      "----Descansa----\n",
      "*********\n",
      "Hola\n",
      "----Descansa----\n",
      "*********\n",
      "No\n",
      "----Descansa----\n",
      "*********\n",
      "Más\n",
      "----Descansa----\n",
      "*********\n",
      "Adios\n",
      "----Descansa----\n",
      "*********\n",
      "Más\n",
      "----Descansa----\n",
      "*********\n",
      "Menos\n",
      "----Descansa----\n",
      "*********\n",
      "Si\n",
      "----Descansa----\n",
      "*********\n",
      "Si\n",
      "----Descansa----\n",
      "*********\n",
      "No\n",
      "----Descansa----\n",
      "*********\n",
      "Menos\n",
      "----Descansa----\n",
      "*********\n",
      "Adios\n",
      "----Descansa----\n",
      "*********\n",
      "Adios\n",
      "----Descansa----\n",
      "*********\n",
      "Más\n",
      "----Descansa----\n",
      "*********\n",
      "Menos\n",
      "----Descansa----\n",
      "*********\n",
      "Más\n",
      "----Descansa----\n",
      "*********\n",
      "Si\n",
      "----Descansa----\n",
      "*********\n",
      "Si\n",
      "----Descansa----\n",
      "*********\n",
      "Menos\n",
      "----Descansa----\n"
     ]
    }
   ],
   "source": [
    "#----------------------------------------------------------------------------------\n",
    "#--------------------------------\n",
    "#   Speech data aquisition\n",
    "#----------------------------------------------------------------------------------\n",
    "#--------------------------------\n",
    "import time\n",
    "import random\n",
    "import numpy as np\n",
    "import sounddevice as sd\n",
    "import pickle\n",
    "from datetime import datetime\n",
    "# Experiment configuration\n",
    "conditions = [('Si', 1), ('No', 2), ('Hola', 3), ('Adios', 4), ('Más', 5), ('Menos', 6)]\n",
    "n_trials = 5\n",
    "fixation_cross_time = 2\n",
    "preparation_time = 0.3\n",
    "training_time = 2\n",
    "rest_time = 1\n",
    "trials = n_trials*conditions\n",
    "random.shuffle(trials)\n",
    "fs=44100    \n",
    "# Data aquisition\n",
    "data = []\n",
    "for t in trials:\n",
    "    # Fixation cross\n",
    "    print (\"*********\")    \n",
    "    time.sleep(fixation_cross_time)    \n",
    "    \n",
    "    # Preparation time\n",
    "    print (t[0])\n",
    "    time.sleep(preparation_time)\n",
    "    # Task    \n",
    "    recording = sd.rec(training_time * fs, samplerate=fs, \n",
    "channels=2,dtype='float64')    \n",
    "    sd.wait()\n",
    "    data.append((t[0], t[1], recording))\n",
    "    # Rest time\n",
    "    print (\"----Descansa----\")\n",
    "    time.sleep(rest_time)\n",
    "# Play records\n",
    "for t in data:\n",
    "    sd.play(t[2], fs)\n",
    "    sd.wait()\n",
    "# Save data\n",
    "now = datetime.now().strftime(\"%m_%d_%Y_%H_%M_%S\")\n",
    "outputFile = open(now + '.obj', 'wb')\n",
    "pickle.dump(data, outputFile)\n",
    "outputFile.close()\n",
    "#----------------------------------------------------------------------------------\n",
    "#--------------------------------\n",
    "#   End of file\n",
    "#----------------------------------------------------------------------------------"
   ]
  },
  {
   "cell_type": "code",
   "execution_count": 9,
   "id": "e76a4474",
   "metadata": {},
   "outputs": [
    {
     "name": "stdout",
     "output_type": "stream",
     "text": [
      "Collecting python_speech_features\n",
      "  Downloading python_speech_features-0.6.tar.gz (5.6 kB)\n",
      "  Preparing metadata (setup.py): started\n",
      "  Preparing metadata (setup.py): finished with status 'done'\n",
      "Building wheels for collected packages: python_speech_features\n",
      "  Building wheel for python_speech_features (setup.py): started\n",
      "  Building wheel for python_speech_features (setup.py): finished with status 'done'\n",
      "  Created wheel for python_speech_features: filename=python_speech_features-0.6-py3-none-any.whl size=5888 sha256=11798facfe67cbe7ee37c7f33777c6ee197aedd43490644e5e15f711e7493d77\n",
      "  Stored in directory: c:\\users\\brian\\appdata\\local\\pip\\cache\\wheels\\09\\a1\\04\\08e2688d2562d8f9ff89e77c6ddfbf7268e07dae1a6f22455e\n",
      "Successfully built python_speech_features\n",
      "Installing collected packages: python_speech_features\n",
      "Successfully installed python_speech_features-0.6\n",
      "Note: you may need to restart the kernel to use updated packages.\n"
     ]
    },
    {
     "name": "stderr",
     "output_type": "stream",
     "text": [
      "WARNING: You are using pip version 22.0.4; however, version 22.1 is available.\n",
      "You should consider upgrading via the 'C:\\TEC\\OCTAVO_b\\SISTEMAS\\proyecto_final\\2da_entrega\\prueba_env\\Scripts\\python.exe -m pip install --upgrade pip' command.\n"
     ]
    }
   ],
   "source": [
    "pip install python_speech_features"
   ]
  },
  {
   "cell_type": "code",
   "execution_count": 21,
   "id": "01797490",
   "metadata": {},
   "outputs": [
    {
     "name": "stdout",
     "output_type": "stream",
     "text": [
      "Collecting sklearn\n",
      "  Downloading sklearn-0.0.tar.gz (1.1 kB)\n",
      "  Preparing metadata (setup.py): started\n",
      "  Preparing metadata (setup.py): finished with status 'done'\n",
      "Collecting scikit-learn\n",
      "  Downloading scikit_learn-1.1.1-cp39-cp39-win_amd64.whl (7.4 MB)\n",
      "     ---------------------------------------- 7.4/7.4 MB 10.3 MB/s eta 0:00:00\n",
      "Requirement already satisfied: scipy>=1.3.2 in c:\\tec\\octavo_b\\sistemas\\proyecto_final\\2da_entrega\\prueba_env\\lib\\site-packages (from scikit-learn->sklearn) (1.8.1)\n",
      "Collecting threadpoolctl>=2.0.0\n",
      "  Downloading threadpoolctl-3.1.0-py3-none-any.whl (14 kB)\n",
      "Requirement already satisfied: numpy>=1.17.3 in c:\\tec\\octavo_b\\sistemas\\proyecto_final\\2da_entrega\\prueba_env\\lib\\site-packages (from scikit-learn->sklearn) (1.22.3)\n",
      "Collecting joblib>=1.0.0\n",
      "  Downloading joblib-1.1.0-py2.py3-none-any.whl (306 kB)\n",
      "     -------------------------------------- 307.0/307.0 KB 9.6 MB/s eta 0:00:00\n",
      "Building wheels for collected packages: sklearn\n",
      "  Building wheel for sklearn (setup.py): started\n",
      "  Building wheel for sklearn (setup.py): finished with status 'done'\n",
      "  Created wheel for sklearn: filename=sklearn-0.0-py2.py3-none-any.whl size=1310 sha256=d0bd01b4596917e46b1316c68f031c58e6e249499582d74aa338b81065ec9a95\n",
      "  Stored in directory: c:\\users\\brian\\appdata\\local\\pip\\cache\\wheels\\e4\\7b\\98\\b6466d71b8d738a0c547008b9eb39bf8676d1ff6ca4b22af1c\n",
      "Successfully built sklearn\n",
      "Installing collected packages: threadpoolctl, joblib, scikit-learn, sklearn\n",
      "Successfully installed joblib-1.1.0 scikit-learn-1.1.1 sklearn-0.0 threadpoolctl-3.1.0\n",
      "Note: you may need to restart the kernel to use updated packages.\n"
     ]
    },
    {
     "name": "stderr",
     "output_type": "stream",
     "text": [
      "WARNING: You are using pip version 22.0.4; however, version 22.1 is available.\n",
      "You should consider upgrading via the 'C:\\TEC\\OCTAVO_b\\SISTEMAS\\proyecto_final\\2da_entrega\\prueba_env\\Scripts\\python.exe -m pip install --upgrade pip' command.\n"
     ]
    }
   ],
   "source": [
    "pip install sklearn"
   ]
  },
  {
   "cell_type": "code",
   "execution_count": 10,
   "id": "24d74e3a",
   "metadata": {},
   "outputs": [
    {
     "data": {
      "image/png": "[encoded data removed]",
      "text/plain": [
       "<Figure size 432x288 with 2 Axes>"
      ]
     },
     "metadata": {
      "needs_background": "light"
     },
     "output_type": "display_data"
    },
    {
     "data": {
      "image/png": "[encoded data removed]",
      "text/plain": [
       "<Figure size 432x288 with 2 Axes>"
      ]
     },
     "metadata": {
      "needs_background": "light"
     },
     "output_type": "display_data"
    },
    {
     "data": {
      "image/png": "[encoded data removed]",
      "text/plain": [
       "<Figure size 1152x144 with 1 Axes>"
      ]
     },
     "metadata": {
      "needs_background": "light"
     },
     "output_type": "display_data"
    }
   ],
   "source": [
    "#----------------------------------------------------------------------------------\n",
    "#--------------------------------\n",
    "#   Speech data processing\n",
    "#----------------------------------------------------------------------------------\n",
    "#--------------------------------\n",
    "import pickle\n",
    "import numpy as np\n",
    "from scipy import stats\n",
    "from scipy import signal\n",
    "import matplotlib.pyplot as plt\n",
    "import sounddevice as sd\n",
    "from python_speech_features import mfcc\n",
    "# Load audio records\n",
    "fs = 44100\n",
    "file_name = '05_20_2022_00_35_58.obj'\n",
    "inputFile = open(file_name, 'rb')\n",
    "data = pickle.load(inputFile)\n",
    "n_trials = len(data)\n",
    "# Plot one record\n",
    "t = 5\n",
    "dt = 1/fs\n",
    "t_size = data[t][2].shape[0]\n",
    "x = np.arange(0, t_size*dt, dt)\n",
    "figure, axis = plt.subplots(2, 1)\n",
    "axis[0].plot(x, data[t][2][:,0])\n",
    "axis[0].set_title(\"Canal 1\")\n",
    "axis[1].plot(x, data[t][2][:,1])\n",
    "axis[1].set_title(\"Canal 2\")\n",
    "plt.show()\n",
    "# Filter signals\n",
    "filt = signal.iirfilter(4, [10, 15000], rs=60, btype='band',\n",
    "                       analog=False, ftype='cheby2', fs=fs,\n",
    "                       output='ba')\n",
    "filtered = []\n",
    "for tr in data:\n",
    "    ff1 = signal.filtfilt(filt[0], filt[1], tr[2][:,0], method='gust')\n",
    "    ff2 = signal.filtfilt(filt[0], filt[1], tr[2][:,1], method='gust')\n",
    "    filtered.append(np.column_stack((ff1, ff2)))\n",
    "figure, axis = plt.subplots(2, 1)\n",
    "axis[0].plot(x, filtered[t][:,0])\n",
    "axis[0].set_title(\"Canal 1\")\n",
    "axis[1].plot(x, filtered[t][:,1])\n",
    "axis[1].set_title(\"Canal 2\")\n",
    "plt.show()\n",
    "sd.play(filtered[t], fs)\n",
    "sd.wait()\n",
    "sd.play(data[t][2], fs)\n",
    "sd.wait()\n",
    "# Calculate MFCC features\n",
    "mfcc_feat = mfcc(filtered[t], fs, nfft = 2048)\n",
    "plt.matshow(mfcc_feat.T)\n",
    "plt.show()\n",
    "features = []\n",
    "for tr in data:\n",
    "    mfcc_feat = mfcc(tr[2], fs, nfft = 2048)\n",
    "    features.append(mfcc_feat.flatten())\n",
    "# Build x and y arrays\n",
    "x = np.array(features)\n",
    "y = [row[1] for row in data]\n",
    "#----------------------------------------------------------------------------------\n",
    "#--------------------------------\n",
    "#   End of file\n",
    "#----------------------------------------------------------------------------------\n",
    "#--------------------------------"
   ]
  },
  {
   "cell_type": "code",
   "execution_count": 35,
   "id": "ca161bf3",
   "metadata": {},
   "outputs": [],
   "source": [
    "y = np.array(y)"
   ]
  },
  {
   "cell_type": "code",
   "execution_count": 23,
   "id": "9909d149",
   "metadata": {},
   "outputs": [],
   "source": [
    "from sklearn.model_selection import StratifiedKFold\n",
    "from sklearn.metrics import confusion_matrix"
   ]
  },
  {
   "cell_type": "code",
   "execution_count": 25,
   "id": "3c0feac8",
   "metadata": {},
   "outputs": [],
   "source": [
    "from sklearn import svm"
   ]
  },
  {
   "cell_type": "code",
   "execution_count": 24,
   "id": "5afce099",
   "metadata": {},
   "outputs": [],
   "source": [
    "def get_model_accuracy_kfold(model, k, X, Y):\n",
    "    kf = StratifiedKFold(n_splits = k, shuffle = True)\n",
    "    acc = 0\n",
    "    for train_idx, test_idx in kf.split(X, Y):\n",
    "        x_train, y_train = X[train_idx, :], Y[train_idx]\n",
    "        model.fit(x_train, y_train)\n",
    "\n",
    "        x_test, y_test = X[test_idx, :], Y[test_idx]\n",
    "        y_pred = model.predict(x_test)\n",
    "\n",
    "        cm = confusion_matrix(y_test, y_pred)\n",
    "        \n",
    "        #print(cm)\n",
    "        \n",
    "        #print(len(cm))\n",
    "        acum = 0\n",
    "        for i in range(len(cm)):\n",
    "            acum+=cm[i,i]\n",
    "        acc+=(acum)/len(y_test)\n",
    "\n",
    "        #acc += (cm[0, 0] + cm[1, 1]+ cm[2,2]) / len(y_test)\n",
    "\n",
    "    acc/=k\n",
    "    \n",
    "    return acc"
   ]
  },
  {
   "cell_type": "code",
   "execution_count": 28,
   "id": "832481b8",
   "metadata": {},
   "outputs": [],
   "source": [
    "from sklearn.neighbors import KNeighborsClassifier\n",
    "from sklearn.tree import DecisionTreeClassifier\n",
    "from sklearn.neural_network import MLPClassifier"
   ]
  },
  {
   "cell_type": "code",
   "execution_count": 38,
   "id": "6c7a7e34",
   "metadata": {},
   "outputs": [],
   "source": [
    "modelos = {\n",
    "    \"SVM lineal\": svm.SVC(kernel='linear'),\n",
    "    \"SVM de base radial\": svm.SVC(kernel='rbf'),\n",
    "    \"KNN\": KNeighborsClassifier(n_neighbors=3),\n",
    "    \"Arboles de decisión\": DecisionTreeClassifier(),\n",
    "    \"Red perceptrón de una capa\": MLPClassifier(hidden_layer_sizes=(1, 1), random_state=1, max_iter=10000),\n",
    "    \"Red perceptrón multicapa\": MLPClassifier(hidden_layer_sizes=(5, 1), random_state=1, max_iter=10000),\n",
    "}"
   ]
  },
  {
   "cell_type": "code",
   "execution_count": 36,
   "id": "c187656b",
   "metadata": {},
   "outputs": [
    {
     "name": "stdout",
     "output_type": "stream",
     "text": [
      "0.6666666666666666\n"
     ]
    }
   ],
   "source": [
    "mxd = modelos[\"SVM lineal\"]\n",
    "mxd\n",
    "\n",
    "print(get_model_accuracy_kfold(mxd, 5, x, y))"
   ]
  },
  {
   "cell_type": "code",
   "execution_count": 39,
   "id": "929eeb57",
   "metadata": {},
   "outputs": [
    {
     "name": "stdout",
     "output_type": "stream",
     "text": [
      "USANDO MODELO: SVM lineal\n",
      "0.6333333333333333\n",
      "USANDO MODELO: SVM de base radial\n",
      "0.4999999999999999\n",
      "USANDO MODELO: KNN\n",
      "0.4666666666666667\n",
      "USANDO MODELO: Arboles de decisión\n",
      "0.30000000000000004\n",
      "USANDO MODELO: Red perceptrón de una capa\n",
      "0.16666666666666666\n",
      "USANDO MODELO: Red perceptrón multicapa\n",
      "0.16666666666666666\n"
     ]
    }
   ],
   "source": [
    "for modelo in modelos:\n",
    "    print(\"USANDO MODELO:\", modelo)\n",
    "    model_to_test = modelos[modelo]\n",
    "    print(get_model_accuracy_kfold(model_to_test, 5, x, y))\n"
   ]
  }
 ],
 "metadata": {
  "kernelspec": {
   "display_name": "Python 3 (ipykernel)",
   "language": "python",
   "name": "python3"
  },
  "language_info": {
   "codemirror_mode": {
    "name": "ipython",
    "version": 3
   },
   "file_extension": ".py",
   "mimetype": "text/x-python",
   "name": "python",
   "nbconvert_exporter": "python",
   "pygments_lexer": "ipython3",
   "version": "3.9.10"
  }
 },
 "nbformat": 4,
 "nbformat_minor": 5
}
