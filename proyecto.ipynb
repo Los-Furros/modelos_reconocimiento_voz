{
 "cells": [
  {
   "cell_type": "code",
   "execution_count": 2,
   "id": "85ee4aed",
   "metadata": {},
   "outputs": [
    {
     "name": "stdout",
     "output_type": "stream",
     "text": [
      "Collecting sounddevice\n",
      "  Using cached sounddevice-0.4.4-py3-none-macosx_10_6_x86_64.macosx_10_6_universal2.whl (108 kB)\n",
      "Requirement already satisfied: scipy in /usr/local/lib/python3.10/site-packages (1.8.0)\n",
      "Requirement already satisfied: matplotlib in /usr/local/lib/python3.10/site-packages (3.5.1)\n",
      "Collecting python_speech_features\n",
      "  Downloading python_speech_features-0.6.tar.gz (5.6 kB)\n",
      "  Preparing metadata (setup.py) ... \u001b[?25ldone\n",
      "\u001b[?25hRequirement already satisfied: CFFI>=1.0 in /usr/local/lib/python3.10/site-packages (from sounddevice) (1.15.0)\n",
      "Requirement already satisfied: numpy<1.25.0,>=1.17.3 in /usr/local/lib/python3.10/site-packages (from scipy) (1.22.3)\n",
      "Requirement already satisfied: packaging>=20.0 in /usr/local/lib/python3.10/site-packages (from matplotlib) (21.3)\n",
      "Requirement already satisfied: pillow>=6.2.0 in /usr/local/lib/python3.10/site-packages (from matplotlib) (9.1.0)\n",
      "Requirement already satisfied: python-dateutil>=2.7 in /usr/local/lib/python3.10/site-packages (from matplotlib) (2.8.2)\n",
      "Requirement already satisfied: cycler>=0.10 in /usr/local/lib/python3.10/site-packages (from matplotlib) (0.11.0)\n",
      "Requirement already satisfied: kiwisolver>=1.0.1 in /usr/local/lib/python3.10/site-packages (from matplotlib) (1.4.2)\n",
      "Requirement already satisfied: fonttools>=4.22.0 in /usr/local/lib/python3.10/site-packages (from matplotlib) (4.33.1)\n",
      "Requirement already satisfied: pyparsing>=2.2.1 in /usr/local/lib/python3.10/site-packages (from matplotlib) (3.0.8)\n",
      "Requirement already satisfied: pycparser in /usr/local/lib/python3.10/site-packages (from CFFI>=1.0->sounddevice) (2.21)\n",
      "Requirement already satisfied: six>=1.5 in /usr/local/lib/python3.10/site-packages (from python-dateutil>=2.7->matplotlib) (1.16.0)\n",
      "Building wheels for collected packages: python_speech_features\n",
      "  Building wheel for python_speech_features (setup.py) ... \u001b[?25ldone\n",
      "\u001b[?25h  Created wheel for python_speech_features: filename=python_speech_features-0.6-py3-none-any.whl size=5888 sha256=f5a7a106c957894fde97abd006eeb8ab747319f46165df22baf403fa601b7a63\n",
      "  Stored in directory: /Users/jsanchez/Library/Caches/pip/wheels/5a/9e/68/30bad9462b3926c29e315df16b562216d12bdc215f4d240294\n",
      "Successfully built python_speech_features\n",
      "Installing collected packages: python_speech_features, sounddevice\n",
      "Successfully installed python_speech_features-0.6 sounddevice-0.4.4\n",
      "\u001b[33mWARNING: You are using pip version 22.0.4; however, version 22.1 is available.\n",
      "You should consider upgrading via the '/usr/local/opt/python@3.10/bin/python3.10 -m pip install --upgrade pip' command.\u001b[0m\u001b[33m\n",
      "\u001b[0mNote: you may need to restart the kernel to use updated packages.\n"
     ]
    }
   ],
   "source": [
    "pip install sounddevice scipy matplotlib python_speech_features"
   ]
  },
  {
   "cell_type": "code",
   "execution_count": 1,
   "id": "c4c22ce0",
   "metadata": {},
   "outputs": [
    {
     "ename": "FileNotFoundError",
     "evalue": "[Errno 2] No such file or directory: '04_29_2022_16_29_14.obj'",
     "output_type": "error",
     "traceback": [
      "\u001b[0;31m---------------------------------------------------------------------------\u001b[0m",
      "\u001b[0;31mFileNotFoundError\u001b[0m                         Traceback (most recent call last)",
      "Input \u001b[0;32mIn [1]\u001b[0m, in \u001b[0;36m<cell line: 14>\u001b[0;34m()\u001b[0m\n\u001b[1;32m     12\u001b[0m fs \u001b[38;5;241m=\u001b[39m \u001b[38;5;241m44100\u001b[39m\n\u001b[1;32m     13\u001b[0m file_name \u001b[38;5;241m=\u001b[39m \u001b[38;5;124m'\u001b[39m\u001b[38;5;124m04_29_2022_16_29_14.obj\u001b[39m\u001b[38;5;124m'\u001b[39m\n\u001b[0;32m---> 14\u001b[0m inputFile \u001b[38;5;241m=\u001b[39m \u001b[38;5;28;43mopen\u001b[39;49m\u001b[43m(\u001b[49m\u001b[43mfile_name\u001b[49m\u001b[43m,\u001b[49m\u001b[43m \u001b[49m\u001b[38;5;124;43m'\u001b[39;49m\u001b[38;5;124;43mrb\u001b[39;49m\u001b[38;5;124;43m'\u001b[39;49m\u001b[43m)\u001b[49m\n\u001b[1;32m     15\u001b[0m data \u001b[38;5;241m=\u001b[39m pickle\u001b[38;5;241m.\u001b[39mload(inputFile)\n\u001b[1;32m     16\u001b[0m n_trials \u001b[38;5;241m=\u001b[39m \u001b[38;5;28mlen\u001b[39m(data)\n",
      "\u001b[0;31mFileNotFoundError\u001b[0m: [Errno 2] No such file or directory: '04_29_2022_16_29_14.obj'"
     ]
    }
   ],
   "source": [
    "#------------------------------------------------------------------------------------------------------------------\n",
    "#   Speech data processing\n",
    "#------------------------------------------------------------------------------------------------------------------\n",
    "import pickle\n",
    "import numpy as np\n",
    "from scipy import stats\n",
    "from scipy import signal\n",
    "import matplotlib.pyplot as plt\n",
    "import sounddevice as sd\n",
    "from python_speech_features import mfcc\n",
    "# Load audio records\n",
    "fs = 44100\n",
    "file_name = '04_29_2022_16_29_14.obj'\n",
    "inputFile = open(file_name, 'rb')\n",
    "data = pickle.load(inputFile)\n",
    "n_trials = len(data)\n",
    "# Plot one record\n",
    "t = 5\n",
    "dt = 1/fs\n",
    "t_size = data[t][2].shape[0]\n",
    "x = np.arange(0, t_size*dt, dt)\n",
    "figure, axis = plt.subplots(2, 1)\n",
    "axis[0].plot(x, data[t][2][:,0])\n",
    "axis[0].set_title(\"Canal 1\")\n",
    "axis[1].plot(x, data[t][2][:,1])\n",
    "axis[1].set_title(\"Canal 2\")\n",
    "plt.show()\n",
    "# Filter signals\n",
    "filt = signal.iirfilter(4, [10, 15000], rs=60, btype='band',\n",
    "                       analog=False, ftype='cheby2', fs=fs,\n",
    "                       output='ba')\n",
    "filtered = []\n",
    "for tr in data:\n",
    "    ff1 = signal.filtfilt(filt[0], filt[1], tr[2][:,0], method='gust')\n",
    "    ff2 = signal.filtfilt(filt[0], filt[1], tr[2][:,1], method='gust')\n",
    "    filtered.append(np.column_stack((ff1, ff2)))\n",
    "figure, axis = plt.subplots(2, 1)\n",
    "axis[0].plot(x, filtered[t][:,0])\n",
    "axis[0].set_title(\"Canal 1\")\n",
    "axis[1].plot(x, filtered[t][:,1])\n",
    "axis[1].set_title(\"Canal 2\")\n",
    "plt.show()\n",
    "sd.play(filtered[t], fs)\n",
    "sd.wait()\n",
    "sd.play(data[t][2], fs)\n",
    "sd.wait()\n",
    "# Calculate MFCC features\n",
    "mfcc_feat = mfcc(filtered[t], fs, nfft = 2048)\n",
    "plt.matshow(mfcc_feat.T)\n",
    "plt.show()\n",
    "features = []\n",
    "for tr in data:\n",
    "    mfcc_feat = mfcc(tr[2], fs, nfft = 2048)\n",
    "    features.append(mfcc_feat.flatten())\n",
    "# Build x and y arrays\n",
    "x = np.array(features)\n",
    "y = [row[1] for row in data]\n",
    "#------------------------------------------------------------------------------------------------------------------\n",
    "#   End of file\n",
    "#------------------------------------------------------------------------------------------------------------------"
   ]
  },
  {
   "cell_type": "code",
   "execution_count": 2,
   "id": "2950647e",
   "metadata": {},
   "outputs": [
    {
     "name": "stdout",
     "output_type": "stream",
     "text": [
      "Requirement already satisfied: numpy in /usr/local/lib/python3.10/site-packages (1.22.3)\n",
      "\u001b[33mWARNING: You are using pip version 22.0.4; however, version 22.1 is available.\n",
      "You should consider upgrading via the '/usr/local/opt/python@3.10/bin/python3.10 -m pip install --upgrade pip' command.\u001b[0m\u001b[33m\n",
      "\u001b[0mNote: you may need to restart the kernel to use updated packages.\n"
     ]
    }
   ],
   "source": [
    "pip install numpy"
   ]
  },
  {
   "cell_type": "code",
   "execution_count": 3,
   "id": "ced83271",
   "metadata": {},
   "outputs": [
    {
     "name": "stdout",
     "output_type": "stream",
     "text": [
      "Requirement already satisfied: scipy in /usr/local/lib/python3.10/site-packages (1.8.0)\n",
      "Requirement already satisfied: numpy<1.25.0,>=1.17.3 in /usr/local/lib/python3.10/site-packages (from scipy) (1.22.3)\n",
      "\u001b[33mWARNING: You are using pip version 22.0.4; however, version 22.1 is available.\n",
      "You should consider upgrading via the '/usr/local/opt/python@3.10/bin/python3.10 -m pip install --upgrade pip' command.\u001b[0m\u001b[33m\n",
      "\u001b[0mNote: you may need to restart the kernel to use updated packages.\n"
     ]
    }
   ],
   "source": [
    "pip install scipy"
   ]
  },
  {
   "cell_type": "code",
   "execution_count": 4,
   "id": "9e164030",
   "metadata": {},
   "outputs": [
    {
     "name": "stdout",
     "output_type": "stream",
     "text": [
      "Requirement already satisfied: matplotlib in /usr/local/lib/python3.10/site-packages (3.5.1)\n",
      "Requirement already satisfied: python-dateutil>=2.7 in /usr/local/lib/python3.10/site-packages (from matplotlib) (2.8.2)\n",
      "Requirement already satisfied: pyparsing>=2.2.1 in /usr/local/lib/python3.10/site-packages (from matplotlib) (3.0.8)\n",
      "Requirement already satisfied: packaging>=20.0 in /usr/local/lib/python3.10/site-packages (from matplotlib) (21.3)\n",
      "Requirement already satisfied: cycler>=0.10 in /usr/local/lib/python3.10/site-packages (from matplotlib) (0.11.0)\n",
      "Requirement already satisfied: fonttools>=4.22.0 in /usr/local/lib/python3.10/site-packages (from matplotlib) (4.33.1)\n",
      "Requirement already satisfied: pillow>=6.2.0 in /usr/local/lib/python3.10/site-packages (from matplotlib) (9.1.0)\n",
      "Requirement already satisfied: numpy>=1.17 in /usr/local/lib/python3.10/site-packages (from matplotlib) (1.22.3)\n",
      "Requirement already satisfied: kiwisolver>=1.0.1 in /usr/local/lib/python3.10/site-packages (from matplotlib) (1.4.2)\n",
      "Requirement already satisfied: six>=1.5 in /usr/local/lib/python3.10/site-packages (from python-dateutil>=2.7->matplotlib) (1.16.0)\n",
      "\u001b[33mWARNING: You are using pip version 22.0.4; however, version 22.1 is available.\n",
      "You should consider upgrading via the '/usr/local/opt/python@3.10/bin/python3.10 -m pip install --upgrade pip' command.\u001b[0m\u001b[33m\n",
      "\u001b[0mNote: you may need to restart the kernel to use updated packages.\n"
     ]
    }
   ],
   "source": [
    "pip install matplotlib"
   ]
  },
  {
   "cell_type": "code",
   "execution_count": 5,
   "id": "834abe0a",
   "metadata": {},
   "outputs": [
    {
     "name": "stdout",
     "output_type": "stream",
     "text": [
      "Requirement already satisfied: sounddevice in /usr/local/lib/python3.10/site-packages (0.4.4)\n",
      "Requirement already satisfied: CFFI>=1.0 in /usr/local/lib/python3.10/site-packages (from sounddevice) (1.15.0)\n",
      "Requirement already satisfied: pycparser in /usr/local/lib/python3.10/site-packages (from CFFI>=1.0->sounddevice) (2.21)\n",
      "\u001b[33mWARNING: You are using pip version 22.0.4; however, version 22.1 is available.\n",
      "You should consider upgrading via the '/usr/local/opt/python@3.10/bin/python3.10 -m pip install --upgrade pip' command.\u001b[0m\u001b[33m\n",
      "\u001b[0mNote: you may need to restart the kernel to use updated packages.\n"
     ]
    }
   ],
   "source": [
    "pip install sounddevice"
   ]
  },
  {
   "cell_type": "code",
   "execution_count": null,
   "id": "b509be59",
   "metadata": {},
   "outputs": [],
   "source": []
  },
  {
   "cell_type": "code",
   "execution_count": 6,
   "id": "f2ef153c",
   "metadata": {},
   "outputs": [
    {
     "name": "stdout",
     "output_type": "stream",
     "text": [
      "Requirement already satisfied: numpy in /usr/local/lib/python3.10/site-packages (1.22.3)\n",
      "Requirement already satisfied: scipy in /usr/local/lib/python3.10/site-packages (1.8.0)\n",
      "Requirement already satisfied: matplotlib in /usr/local/lib/python3.10/site-packages (3.5.1)\n",
      "Requirement already satisfied: sounddevice in /usr/local/lib/python3.10/site-packages (0.4.4)\n",
      "Requirement already satisfied: cycler>=0.10 in /usr/local/lib/python3.10/site-packages (from matplotlib) (0.11.0)\n",
      "Requirement already satisfied: packaging>=20.0 in /usr/local/lib/python3.10/site-packages (from matplotlib) (21.3)\n",
      "Requirement already satisfied: python-dateutil>=2.7 in /usr/local/lib/python3.10/site-packages (from matplotlib) (2.8.2)\n",
      "Requirement already satisfied: pyparsing>=2.2.1 in /usr/local/lib/python3.10/site-packages (from matplotlib) (3.0.8)\n",
      "Requirement already satisfied: fonttools>=4.22.0 in /usr/local/lib/python3.10/site-packages (from matplotlib) (4.33.1)\n",
      "Requirement already satisfied: kiwisolver>=1.0.1 in /usr/local/lib/python3.10/site-packages (from matplotlib) (1.4.2)\n",
      "Requirement already satisfied: pillow>=6.2.0 in /usr/local/lib/python3.10/site-packages (from matplotlib) (9.1.0)\n",
      "Requirement already satisfied: CFFI>=1.0 in /usr/local/lib/python3.10/site-packages (from sounddevice) (1.15.0)\n",
      "Requirement already satisfied: pycparser in /usr/local/lib/python3.10/site-packages (from CFFI>=1.0->sounddevice) (2.21)\n",
      "Requirement already satisfied: six>=1.5 in /usr/local/lib/python3.10/site-packages (from python-dateutil>=2.7->matplotlib) (1.16.0)\n",
      "\u001b[33mWARNING: You are using pip version 22.0.4; however, version 22.1 is available.\n",
      "You should consider upgrading via the '/usr/local/opt/python@3.10/bin/python3.10 -m pip install --upgrade pip' command.\u001b[0m\u001b[33m\n",
      "\u001b[0mNote: you may need to restart the kernel to use updated packages.\n"
     ]
    }
   ],
   "source": [
    "pip install numpy scipy matplotlib sounddevice"
   ]
  },
  {
   "cell_type": "code",
   "execution_count": null,
   "id": "b40ea3f0",
   "metadata": {},
   "outputs": [],
   "source": []
  },
  {
   "cell_type": "code",
   "execution_count": null,
   "id": "e870d0b3",
   "metadata": {},
   "outputs": [],
   "source": [
    "#IGNORAR ESTO\n",
    "# !sudo apt-get install libportaudio2\n"
   ]
  },
  {
   "cell_type": "code",
   "execution_count": 7,
   "id": "f14bd5d8",
   "metadata": {},
   "outputs": [],
   "source": [
    "import pickle\n",
    "import numpy as np\n",
    "from scipy import stats\n",
    "from scipy import signal\n",
    "import matplotlib.pyplot as plt\n",
    "import sounddevice as sd\n",
    "from python_speech_features import mfcc"
   ]
  },
  {
   "cell_type": "code",
   "execution_count": null,
   "id": "6d0a681a",
   "metadata": {},
   "outputs": [],
   "source": []
  },
  {
   "cell_type": "code",
   "execution_count": 24,
   "id": "093856a7",
   "metadata": {
    "scrolled": true
   },
   "outputs": [
    {
     "name": "stdout",
     "output_type": "stream",
     "text": [
      "*********\n",
      "Menos\n",
      "----Descansa----\n",
      "*********\n",
      "Hola\n",
      "----Descansa----\n",
      "*********\n",
      "Más\n",
      "----Descansa----\n",
      "*********\n",
      "Hola\n",
      "----Descansa----\n",
      "*********\n",
      "Hola\n",
      "----Descansa----\n",
      "*********\n",
      "Adios\n",
      "----Descansa----\n",
      "*********\n",
      "No\n",
      "----Descansa----\n",
      "*********\n",
      "Más\n",
      "----Descansa----\n",
      "*********\n",
      "Menos\n",
      "----Descansa----\n",
      "*********\n",
      "No\n",
      "----Descansa----\n",
      "*********\n",
      "No\n",
      "----Descansa----\n",
      "*********\n",
      "Adios\n",
      "----Descansa----\n",
      "*********\n",
      "Hola\n",
      "----Descansa----\n",
      "*********\n",
      "Si\n",
      "----Descansa----\n",
      "*********\n",
      "Más\n",
      "----Descansa----\n",
      "*********\n",
      "Si\n",
      "----Descansa----\n",
      "*********\n",
      "Adios\n",
      "----Descansa----\n",
      "*********\n",
      "Adios\n",
      "----Descansa----\n",
      "*********\n",
      "Más\n",
      "----Descansa----\n",
      "*********\n",
      "Adios\n",
      "----Descansa----\n",
      "*********\n",
      "No\n",
      "----Descansa----\n",
      "*********\n",
      "Si\n",
      "----Descansa----\n",
      "*********\n",
      "No\n",
      "----Descansa----\n",
      "*********\n",
      "Menos\n",
      "----Descansa----\n",
      "*********\n",
      "Menos\n",
      "----Descansa----\n",
      "*********\n",
      "Si\n",
      "----Descansa----\n",
      "*********\n",
      "Menos\n",
      "----Descansa----\n",
      "*********\n",
      "Hola\n",
      "----Descansa----\n",
      "*********\n",
      "Más\n",
      "----Descansa----\n",
      "*********\n",
      "Si\n",
      "----Descansa----\n"
     ]
    }
   ],
   "source": [
    "#----------------------------------------------------------------------------------\n",
    "#--------------------------------\n",
    "#   Speech data aquisition\n",
    "#----------------------------------------------------------------------------------\n",
    "#--------------------------------\n",
    "import time\n",
    "import random\n",
    "import numpy as np\n",
    "import sounddevice as sd\n",
    "import pickle\n",
    "from datetime import datetime\n",
    "# Experiment configuration\n",
    "conditions = [('Si', 1), ('No', 2), ('Hola', 3), ('Adios', 4), ('Más', 5), ('Menos', 6)]\n",
    "n_trials = 5\n",
    "fixation_cross_time = 2\n",
    "preparation_time = 0.3\n",
    "training_time = 2\n",
    "rest_time = 1\n",
    "trials = n_trials*conditions\n",
    "random.shuffle(trials)\n",
    "fs=44100    \n",
    "# Data aquisition\n",
    "data = []\n",
    "for t in trials:\n",
    "    # Fixation cross\n",
    "    print (\"*********\")    \n",
    "    time.sleep(fixation_cross_time)    \n",
    "    \n",
    "    # Preparation time\n",
    "    print (t[0])\n",
    "    time.sleep(preparation_time)\n",
    "    # Task    \n",
    "    recording = sd.rec(training_time * fs, samplerate=fs, \n",
    "channels=1,dtype='float64')    \n",
    "    sd.wait()\n",
    "    data.append((t[0], t[1], recording))\n",
    "    # Rest time\n",
    "    print (\"----Descansa----\")\n",
    "    time.sleep(rest_time)\n",
    "# Play records\n",
    "for t in data:\n",
    "    sd.play(t[2], fs)\n",
    "    sd.wait()\n",
    "# Save data\n",
    "now = datetime.now().strftime(\"%m_%d_%Y_%H_%M_%S\")\n",
    "outputFile = open(now + '.obj', 'wb')\n",
    "pickle.dump(data, outputFile)\n",
    "outputFile.close()\n",
    "#----------------------------------------------------------------------------------\n",
    "#--------------------------------\n",
    "#   End of file\n",
    "#----------------------------------------------------------------------------------"
   ]
  },
  {
   "cell_type": "code",
   "execution_count": 3,
   "id": "e76a4474",
   "metadata": {},
   "outputs": [
    {
     "name": "stdout",
     "output_type": "stream",
     "text": [
      "Requirement already satisfied: python_speech_features in /usr/local/lib/python3.10/site-packages (0.6)\n",
      "\u001b[33mWARNING: You are using pip version 22.0.4; however, version 22.1 is available.\n",
      "You should consider upgrading via the '/usr/local/opt/python@3.10/bin/python3.10 -m pip install --upgrade pip' command.\u001b[0m\u001b[33m\n",
      "\u001b[0mNote: you may need to restart the kernel to use updated packages.\n"
     ]
    }
   ],
   "source": [
    "pip install python_speech_features"
   ]
  },
  {
   "cell_type": "code",
   "execution_count": 4,
   "id": "01797490",
   "metadata": {},
   "outputs": [
    {
     "name": "stdout",
     "output_type": "stream",
     "text": [
      "Requirement already satisfied: sklearn in /usr/local/lib/python3.10/site-packages (0.0)\n",
      "Requirement already satisfied: scikit-learn in /usr/local/lib/python3.10/site-packages (from sklearn) (1.1.0)\n",
      "Requirement already satisfied: numpy>=1.17.3 in /usr/local/lib/python3.10/site-packages (from scikit-learn->sklearn) (1.22.3)\n",
      "Requirement already satisfied: threadpoolctl>=2.0.0 in /usr/local/lib/python3.10/site-packages (from scikit-learn->sklearn) (3.1.0)\n",
      "Requirement already satisfied: joblib>=1.0.0 in /usr/local/lib/python3.10/site-packages (from scikit-learn->sklearn) (1.1.0)\n",
      "Requirement already satisfied: scipy>=1.3.2 in /usr/local/lib/python3.10/site-packages (from scikit-learn->sklearn) (1.8.0)\n",
      "\u001b[33mWARNING: You are using pip version 22.0.4; however, version 22.1 is available.\n",
      "You should consider upgrading via the '/usr/local/opt/python@3.10/bin/python3.10 -m pip install --upgrade pip' command.\u001b[0m\u001b[33m\n",
      "\u001b[0mNote: you may need to restart the kernel to use updated packages.\n"
     ]
    }
   ],
   "source": [
    "pip install sklearn"
   ]
  },
  {
   "cell_type": "code",
   "execution_count": 17,
   "id": "24d74e3a",
   "metadata": {},
   "outputs": [],
   "source": [
    "import pickle\n",
    "import numpy as np\n",
    "from scipy import stats\n",
    "from scipy import signal\n",
    "import matplotlib.pyplot as plt\n",
    "import sounddevice as sd\n",
    "from python_speech_features import mfcc\n",
    "\n",
    "def process_voice_commands(file_name):\n",
    "    #----------------------------------------------------------------------------------\n",
    "    #--------------------------------\n",
    "    #   Speech data processing\n",
    "    #----------------------------------------------------------------------------------\n",
    "    #--------------------------------\n",
    "\n",
    "\n",
    "\n",
    "    # Load audio records\n",
    "    fs = 44100\n",
    "    inputFile = open(file_name, 'rb')\n",
    "    data = pickle.load(inputFile)\n",
    "    n_trials = len(data)\n",
    "    # Plot one record\n",
    "    t = 5\n",
    "    dt = 1/fs\n",
    "    t_size = data[t][2].shape[0]\n",
    "    x = np.arange(0, t_size*dt, dt)\n",
    "    figure, axis = plt.subplots(2, 1)\n",
    "    axis[0].plot(x, data[t][2][:,0])\n",
    "    axis[0].set_title(\"Canal 1\")\n",
    "    axis[1].plot(x, data[t][2][:,1])\n",
    "    axis[1].set_title(\"Canal 2\")\n",
    "    plt.show()\n",
    "    # Filter signals\n",
    "    filt = signal.iirfilter(4, [10, 15000], rs=60, btype='band',\n",
    "                           analog=False, ftype='cheby2', fs=fs,\n",
    "                           output='ba')\n",
    "    filtered = []\n",
    "    for tr in data:\n",
    "        ff1 = signal.filtfilt(filt[0], filt[1], tr[2][:,0], method='gust')\n",
    "        #ff2 = signal.filtfilt(filt[0], filt[1], tr[2][:,1], method='gust')\n",
    "        #filtered.append(np.column_stack((ff1, ff2)))\n",
    "        filtered.append(np.column_stack((ff1)))\n",
    "    figure, axis = plt.subplots(2, 1)\n",
    "    axis[0].plot(x, filtered[t][:,0])\n",
    "    axis[0].set_title(\"Canal 1\")\n",
    "    axis[1].plot(x, filtered[t][:,1])\n",
    "    axis[1].set_title(\"Canal 2\")\n",
    "    plt.show()\n",
    "    sd.play(filtered[t], fs)\n",
    "    sd.wait()\n",
    "    sd.play(data[t][2], fs)\n",
    "    sd.wait()\n",
    "    # Calculate MFCC features\n",
    "    mfcc_feat = mfcc(filtered[t], fs, nfft = 2048)\n",
    "    plt.matshow(mfcc_feat.T)\n",
    "    plt.show()\n",
    "    features = []\n",
    "    for tr in data:\n",
    "        mfcc_feat = mfcc(tr[2], fs, nfft = 2048)\n",
    "        features.append(mfcc_feat.flatten())\n",
    "    # Build x and y arrays\n",
    "    x = np.array(features)\n",
    "    y = [row[1] for row in data]\n",
    "    \n",
    "    y = np.array(y)\n",
    "    #return x and y\n",
    "    return x, y\n",
    "    \n",
    "    #----------------------------------------------------------------------------------\n",
    "    #--------------------------------\n",
    "    #   End of file\n",
    "    #----------------------------------------------------------------------------------\n",
    "    #--------------------------------"
   ]
  },
  {
   "cell_type": "code",
   "execution_count": 6,
   "id": "9909d149",
   "metadata": {},
   "outputs": [],
   "source": [
    "from sklearn.model_selection import StratifiedKFold\n",
    "from sklearn.metrics import confusion_matrix"
   ]
  },
  {
   "cell_type": "code",
   "execution_count": 7,
   "id": "3c0feac8",
   "metadata": {},
   "outputs": [],
   "source": [
    "from sklearn import svm"
   ]
  },
  {
   "cell_type": "code",
   "execution_count": 8,
   "id": "5afce099",
   "metadata": {},
   "outputs": [],
   "source": [
    "def get_model_accuracy_kfold(model, k, X, Y):\n",
    "    kf = StratifiedKFold(n_splits = k, shuffle = True)\n",
    "    acc = 0\n",
    "    for train_idx, test_idx in kf.split(X, Y):\n",
    "        x_train, y_train = X[train_idx, :], Y[train_idx]\n",
    "        model.fit(x_train, y_train)\n",
    "\n",
    "        x_test, y_test = X[test_idx, :], Y[test_idx]\n",
    "        y_pred = model.predict(x_test)\n",
    "\n",
    "        cm = confusion_matrix(y_test, y_pred)\n",
    "        \n",
    "        #print(cm)\n",
    "        \n",
    "        #print(len(cm))\n",
    "        acum = 0\n",
    "        for i in range(len(cm)):\n",
    "            acum+=cm[i,i]\n",
    "        acc+=(acum)/len(y_test)\n",
    "\n",
    "        #acc += (cm[0, 0] + cm[1, 1]+ cm[2,2]) / len(y_test)\n",
    "\n",
    "    acc/=k\n",
    "    \n",
    "    return acc"
   ]
  },
  {
   "cell_type": "code",
   "execution_count": 9,
   "id": "832481b8",
   "metadata": {},
   "outputs": [],
   "source": [
    "from sklearn.neighbors import KNeighborsClassifier\n",
    "from sklearn.tree import DecisionTreeClassifier\n",
    "from sklearn.neural_network import MLPClassifier"
   ]
  },
  {
   "cell_type": "code",
   "execution_count": 10,
   "id": "6c7a7e34",
   "metadata": {},
   "outputs": [],
   "source": [
    "modelos = {\n",
    "    \"SVM lineal\": svm.SVC(kernel='linear'),\n",
    "    \"SVM de base radial\": svm.SVC(kernel='rbf'),\n",
    "    \"KNN\": KNeighborsClassifier(n_neighbors=3),\n",
    "    \"Arboles de decisión\": DecisionTreeClassifier(),\n",
    "    \"Red perceptrón de una capa\": MLPClassifier(hidden_layer_sizes=(1, 1), random_state=1, max_iter=10000),\n",
    "    \"Red perceptrón multicapa\": MLPClassifier(hidden_layer_sizes=(5, 1), random_state=1, max_iter=10000),\n",
    "}"
   ]
  },
  {
   "cell_type": "code",
   "execution_count": 24,
   "id": "929eeb57",
   "metadata": {},
   "outputs": [
    {
     "name": "stdout",
     "output_type": "stream",
     "text": [
      "USANDO COMANDOS DE: brian\n"
     ]
    },
    {
     "data": {
      "image/png": "[encoded data removed]",
      "text/plain": [
       "<Figure size 432x288 with 2 Axes>"
      ]
     },
     "metadata": {
      "needs_background": "light"
     },
     "output_type": "display_data"
    },
    {
     "data": {
      "image/png": "[encoded data removed]",
      "text/plain": [
       "<Figure size 432x288 with 2 Axes>"
      ]
     },
     "metadata": {
      "needs_background": "light"
     },
     "output_type": "display_data"
    },
    {
     "data": {
      "image/png": "[encoded data removed]",
      "text/plain": [
       "<Figure size 1152x144 with 1 Axes>"
      ]
     },
     "metadata": {
      "needs_background": "light"
     },
     "output_type": "display_data"
    },
    {
     "name": "stdout",
     "output_type": "stream",
     "text": [
      "[[-12.839915    -2.33316004 -18.21736854 ...  -7.63230771 -14.31994806\n",
      "    3.61563674]\n",
      " [-13.56391247  -3.48158288  -7.75601619 ...  -7.76748012 -15.82388748\n",
      "    1.13080725]\n",
      " [-12.26805692  -0.47310546 -14.41070669 ...  -4.95064636 -20.27528183\n",
      "    0.5078029 ]\n",
      " ...\n",
      " [-12.91954999  -3.0302833  -12.92987745 ...  10.52271445 -12.45815002\n",
      "   13.88103237]\n",
      " [-12.91325006  -3.88202283 -17.69285014 ...  -5.99091645 -13.38970313\n",
      "    5.00790099]\n",
      " [-13.20736596  -4.15225201 -11.26401582 ...  -0.6107567   -4.69879685\n",
      "   18.78495689]]\n",
      "USANDO MODELO: SVM lineal\n",
      "0.6333333333333333\n",
      "USANDO MODELO: SVM de base radial\n",
      "0.5666666666666667\n",
      "USANDO MODELO: KNN\n",
      "0.5\n",
      "USANDO MODELO: Arboles de decisión\n",
      "0.5333333333333333\n",
      "USANDO MODELO: Red perceptrón de una capa\n",
      "0.16666666666666666\n",
      "USANDO MODELO: Red perceptrón multicapa\n",
      "0.16666666666666666\n",
      "USANDO COMANDOS DE: jorge\n"
     ]
    },
    {
     "ename": "IndexError",
     "evalue": "index 1 is out of bounds for axis 1 with size 1",
     "output_type": "error",
     "traceback": [
      "\u001b[0;31m---------------------------------------------------------------------------\u001b[0m",
      "\u001b[0;31mIndexError\u001b[0m                                Traceback (most recent call last)",
      "Input \u001b[0;32mIn [24]\u001b[0m, in \u001b[0;36m<cell line: 3>\u001b[0;34m()\u001b[0m\n\u001b[1;32m      4\u001b[0m \u001b[38;5;28mprint\u001b[39m(\u001b[38;5;124mf\u001b[39m\u001b[38;5;124m\"\u001b[39m\u001b[38;5;124mUSANDO COMANDOS DE: \u001b[39m\u001b[38;5;132;01m{\u001b[39;00mname\u001b[38;5;132;01m}\u001b[39;00m\u001b[38;5;124m\"\u001b[39m)\n\u001b[1;32m      5\u001b[0m file_name \u001b[38;5;241m=\u001b[39m name \u001b[38;5;241m+\u001b[39m \u001b[38;5;124m\"\u001b[39m\u001b[38;5;124m_com.obj\u001b[39m\u001b[38;5;124m\"\u001b[39m\n\u001b[0;32m----> 6\u001b[0m x, y \u001b[38;5;241m=\u001b[39m \u001b[43mprocess_voice_commands\u001b[49m\u001b[43m(\u001b[49m\u001b[43mfile_name\u001b[49m\u001b[43m)\u001b[49m\n\u001b[1;32m      7\u001b[0m \u001b[38;5;28mprint\u001b[39m(x)\n\u001b[1;32m      8\u001b[0m \u001b[38;5;28;01mfor\u001b[39;00m modelo \u001b[38;5;129;01min\u001b[39;00m modelos:\n",
      "Input \u001b[0;32mIn [17]\u001b[0m, in \u001b[0;36mprocess_voice_commands\u001b[0;34m(file_name)\u001b[0m\n\u001b[1;32m     29\u001b[0m axis[\u001b[38;5;241m0\u001b[39m]\u001b[38;5;241m.\u001b[39mplot(x, data[t][\u001b[38;5;241m2\u001b[39m][:,\u001b[38;5;241m0\u001b[39m])\n\u001b[1;32m     30\u001b[0m axis[\u001b[38;5;241m0\u001b[39m]\u001b[38;5;241m.\u001b[39mset_title(\u001b[38;5;124m\"\u001b[39m\u001b[38;5;124mCanal 1\u001b[39m\u001b[38;5;124m\"\u001b[39m)\n\u001b[0;32m---> 31\u001b[0m axis[\u001b[38;5;241m1\u001b[39m]\u001b[38;5;241m.\u001b[39mplot(x, \u001b[43mdata\u001b[49m\u001b[43m[\u001b[49m\u001b[43mt\u001b[49m\u001b[43m]\u001b[49m\u001b[43m[\u001b[49m\u001b[38;5;241;43m2\u001b[39;49m\u001b[43m]\u001b[49m\u001b[43m[\u001b[49m\u001b[43m:\u001b[49m\u001b[43m,\u001b[49m\u001b[38;5;241;43m1\u001b[39;49m\u001b[43m]\u001b[49m)\n\u001b[1;32m     32\u001b[0m axis[\u001b[38;5;241m1\u001b[39m]\u001b[38;5;241m.\u001b[39mset_title(\u001b[38;5;124m\"\u001b[39m\u001b[38;5;124mCanal 2\u001b[39m\u001b[38;5;124m\"\u001b[39m)\n\u001b[1;32m     33\u001b[0m plt\u001b[38;5;241m.\u001b[39mshow()\n",
      "\u001b[0;31mIndexError\u001b[0m: index 1 is out of bounds for axis 1 with size 1"
     ]
    },
    {
     "data": {
      "image/png": "[encoded data removed]",
      "text/plain": [
       "<Figure size 432x288 with 2 Axes>"
      ]
     },
     "metadata": {
      "needs_background": "light"
     },
     "output_type": "display_data"
    }
   ],
   "source": [
    "names = [\"brian\", \"jorge\", \"marlene\"]\n",
    "\n",
    "for name in names:\n",
    "    print(f\"USANDO COMANDOS DE: {name}\")\n",
    "    file_name = name + \"_com.obj\"\n",
    "    x, y = process_voice_commands(file_name)\n",
    "    \n",
    "    for modelo in modelos:\n",
    "        print(f\"USANDO MODELO: {modelo}\")\n",
    "        model_to_test = modelos[modelo]\n",
    "        print(get_model_accuracy_kfold(model_to_test, 5, x, y))\n"
   ]
  },
  {
   "cell_type": "code",
   "execution_count": null,
   "id": "f7b80cde",
   "metadata": {},
   "outputs": [],
   "source": []
  }
 ],
 "metadata": {
  "kernelspec": {
   "display_name": "Python 3 (ipykernel)",
   "language": "python",
   "name": "python3"
  },
  "language_info": {
   "codemirror_mode": {
    "name": "ipython",
    "version": 3
   },
   "file_extension": ".py",
   "mimetype": "text/x-python",
   "name": "python",
   "nbconvert_exporter": "python",
   "pygments_lexer": "ipython3",
   "version": "3.10.2"
  }
 },
 "nbformat": 4,
 "nbformat_minor": 5
}
